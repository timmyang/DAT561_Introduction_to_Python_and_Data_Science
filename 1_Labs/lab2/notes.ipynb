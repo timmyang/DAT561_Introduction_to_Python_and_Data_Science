{
 "cells": [
  {
   "cell_type": "markdown",
   "metadata": {},
   "source": [
    "# If Statement and Syntax Rules\n",
    "\n",
    "The Python if statement is the main statement used for selecting from alternative actions based on test results.  Because this is our first in-depth look at compound statements -- statements that embed other statements --  we will also look at general concepts behind the Python syntax model.\n",
    "\n",
    "\n",
    "\n",
    "## Python Syntax Rules\n",
    "\n",
    "In general, Python has a simple, statement-based syntax. However there are a few properties that you need to know:\n",
    "\n",
    "**Statements execute one after the other, until you say otherwise**: Python runs code from the top of the file to the bottom, but note that if statements, for example, can cause the interpreter to jump around in your code.\n",
    "\n",
    "**Code boundaries are detected automatically**: Python uses the indentation of statements under a header to group the statements in a nested block. Also, the end of a line usually marks the end of the statement coded on that line.\n",
    "\n",
    "**Coumpund statements = header + : + indented statements**: See if statements section for example.\n",
    "\n",
    "**Blank lines, spaces and comments are usually ignored**: Blank lines are ignored in files. Spaces inside of statements and expressions are almost always ignored.\n",
    "\n",
    "\n",
    "\n",
    "## If Statements\n",
    "\n",
    "The if statement is a compound statement that selects actions to perform.  Like all compound Python statements, the if statement may contain other statements, including other ifs. Python lets you combine statements in a program sequentially (so that they execute one after the other) and in an arbitrarily nested fashion (so that they execute only under certain conditions). Here is the general format :\n",
    "\n",
    "if *test1*:\n",
    "\n",
    "    *statement1*\n",
    "    \n",
    "elif *test2*:\n",
    "\n",
    "    *statement2*\n",
    "    \n",
    "else:\n",
    "\n",
    "    *statement3*\n",
    "\n",
    "\n",
    "When the if statement runs, Python executes the first statement assoiciated with the first test that evalates to true, or the else block if all tests are false.  You can only have one if and else statement, but are allowed arbitrarily many elif tests.\n",
    "\n",
    "In practice, both the elif and else parts may be omitted, and there may be more than one statement nested in each section.  Note that words if, elif, else are associated by the fact that they line up vertically, with the same indentation.\n",
    "\n",
    "Lets write our first if statement...\n",
    "    "
   ]
  },
  {
   "cell_type": "code",
   "execution_count": 1,
   "metadata": {},
   "outputs": [
    {
     "data": {
      "text/plain": [
       "36"
      ]
     },
     "execution_count": 1,
     "metadata": {},
     "output_type": "execute_result"
    }
   ],
   "source": [
    "#This bit of code allows me to output more than one variable value without using a print statement.\n",
    "from IPython.core.interactiveshell import InteractiveShell\n",
    "InteractiveShell.ast_node_interactivity = \"all\"\n",
    "\n",
    "# Simple if statement\n",
    "\n",
    "age= 35\n",
    "#More on dealing with dates later\n",
    "birthday =  \"10/1/17\"\n",
    "day = \"10/1/17\"\n",
    "\n",
    "if birthday == day:\n",
    "    age += 1\n",
    "\n",
    "age"
   ]
  },
  {
   "cell_type": "code",
   "execution_count": 2,
   "metadata": {},
   "outputs": [
    {
     "name": "stdout",
     "output_type": "stream",
     "text": [
      "odd\n"
     ]
    }
   ],
   "source": [
    "# If with else: check whether a number is even or odd\n",
    "x = 7\n",
    "if x % 2 == 0:\n",
    "    print(\"even\")\n",
    "else:\n",
    "    print(\"odd\")"
   ]
  },
  {
   "cell_type": "code",
   "execution_count": 4,
   "metadata": {},
   "outputs": [
    {
     "name": "stdout",
     "output_type": "stream",
     "text": [
      "This month has 30 days\n"
     ]
    }
   ],
   "source": [
    "#Print the number of days in a month this year\n",
    "\n",
    "current_month = 4\n",
    "\n",
    "if current_month in [4, 6, 11, 10]:\n",
    "    print(\"This month has 30 days\")\n",
    "elif current_month == 2:\n",
    "    print(\"This month has 28 (or 29) days\")\n",
    "else:\n",
    "    print(\"This month has 31 days\")"
   ]
  },
  {
   "cell_type": "code",
   "execution_count": 7,
   "metadata": {},
   "outputs": [
    {
     "name": "stdout",
     "output_type": "stream",
     "text": [
      "burger is a lunch item\n"
     ]
    }
   ],
   "source": [
    "#Nested if - Check if an food item is a brunch item.\n",
    "\n",
    "breakfast = [\"eggs\", \"bacon\",\"blt\"]\n",
    "lunch = [\"burger\", \"blt\", \"pizza\"]\n",
    "\n",
    "food = \"burger\"\n",
    "if food in breakfast:\n",
    "    if food in lunch:\n",
    "        print(\"%s is a brunch item\" %food)\n",
    "    else:\n",
    "        print(\"%s is a breakfast item\" %food)\n",
    "else:\n",
    "    if food in lunch:\n",
    "        print(\"%s is a lunch item\" %food)\n",
    "    else:\n",
    "        print(\"%s is not on the menu\" % food)\n"
   ]
  },
  {
   "cell_type": "markdown",
   "metadata": {},
   "source": [
    "The most commmon check in if statements:\n",
    "\n",
    " - x==y: check if x is equal to y\n",
    " - x>=y: check if x is greater than or equal to y\n",
    " - x<=y: check if x if less than or equal to y\n",
    " - x!=y: check if x is not equal to y\n",
    " - x in y: check if x is in y (y must be list, string, tuple or dictionary)\n",
    " - x not in y: check if x is not in y (y must be list, string tuple or dictionary)"
   ]
  },
  {
   "cell_type": "markdown",
   "metadata": {},
   "source": [
    "## Truth Tests\n",
    "\n",
    "The if statement uses a truth test to figure out which block of code to execute.  We'll expand on the ideas we've seen in this section. Boolean operators are used to combine the results of multiple tests.  There are three Boolean expression operators in Python:\n",
    "\n",
    "X and Y: Is true if both X and Y are true\n",
    "\n",
    "X or Y: Is true if either X or Y is true\n",
    "\n",
    "not X: Is true if X is false\n",
    "\n",
    "Lets look at some examples:"
   ]
  },
  {
   "cell_type": "code",
   "execution_count": 6,
   "metadata": {},
   "outputs": [
    {
     "name": "stdout",
     "output_type": "stream",
     "text": [
      "12 is a multiple of both 2 and 3\n"
     ]
    }
   ],
   "source": [
    "#Check if a number is both a multiple of 2 and 3\n",
    "y= 12\n",
    "\n",
    "if y%2==0 and y%3==0:\n",
    "    print(\"%d is a multiple of both 2 and 3\" %y)\n"
   ]
  },
  {
   "cell_type": "code",
   "execution_count": 8,
   "metadata": {},
   "outputs": [
    {
     "name": "stdout",
     "output_type": "stream",
     "text": [
      "yep\n"
     ]
    }
   ],
   "source": [
    "#Check if a name has more than 5 letters or contains an \"a\"\n",
    "\n",
    "name= \"Jacob\"\n",
    "\n",
    "if \"a\" in name or len(name) >=5:\n",
    "    print(\"yep\")\n",
    "\n",
    "xor"
   ]
  },
  {
   "cell_type": "code",
   "execution_count": 10,
   "metadata": {},
   "outputs": [
    {
     "name": "stdout",
     "output_type": "stream",
     "text": [
      "lunch\n"
     ]
    }
   ],
   "source": [
    "breakfast = [\"eggs\", \"bacon\",\"blt\"]\n",
    "lunch = [\"burger\", \"pizza\"]\n",
    "lunch = [\"burger\", \"pizza\"]\n",
    "\n",
    "#Check if we have a new food item\n",
    "food= \"burger\"\n",
    "\n",
    "if food not in breakfast and food not in lunch:\n",
    "    print(\"New item\")\n",
    "else:\n",
    "    if food in breakfast:\n",
    "        print(\"breakfast!\")\n",
    "    else:\n",
    "        print(\"lunch\")"
   ]
  },
  {
   "cell_type": "markdown",
   "metadata": {},
   "source": [
    "# For Loop\n",
    "\n",
    "The for loop in used to step through the items in any ordered sequence object.  The Python for loop begins with a header line that specifies an assignment target, along with objects you want to step through.  The structure of a for loop is as follows:\n",
    "\n",
    "for *target* in *object*:\n",
    "    \n",
    "    *statements*\n",
    "    if *test*: \n",
    "    \n",
    "        break\n",
    "    \n",
    "\n",
    "*break*: Jumps out of the closest enclosing loop (past the entire loop statement)\n",
    "\n",
    "\n",
    "When Python runs a for loop, it assigns the items in the sequence object to the target one by one and executes the loop body for each.  After the loop has finished, the loop variable still refers to the last item visited."
   ]
  },
  {
   "cell_type": "code",
   "execution_count": 10,
   "metadata": {},
   "outputs": [
    {
     "name": "stdout",
     "output_type": "stream",
     "text": [
      "spam\n",
      "eggs\n",
      "ham\n"
     ]
    }
   ],
   "source": [
    "#print elements of a list\n",
    "l = ['spam', 'eggs', 'ham']\n",
    "for name in l:\n",
    "    print(name)"
   ]
  },
  {
   "cell_type": "code",
   "execution_count": 11,
   "metadata": {},
   "outputs": [
    {
     "name": "stdout",
     "output_type": "stream",
     "text": [
      "5\n",
      "10\n",
      "15\n",
      "20\n"
     ]
    }
   ],
   "source": [
    "#compute first four multiple of y\n",
    "x=[1,2,3,4]\n",
    "y=5\n",
    "for m in x:\n",
    "    print(y*m)"
   ]
  },
  {
   "cell_type": "code",
   "execution_count": 12,
   "metadata": {},
   "outputs": [
    {
     "name": "stdout",
     "output_type": "stream",
     "text": [
      "Jake has 2 vowels\n"
     ]
    }
   ],
   "source": [
    "#Also words on strings. count number of vowels\n",
    "name= \"Jake\"\n",
    "count=0\n",
    "for letter in name:\n",
    "    if letter in ['a','e', 'i', 'o', 'u']:\n",
    "        count+=1\n",
    "print(\"%s has %d vowels\" %(name, count))"
   ]
  },
  {
   "cell_type": "code",
   "execution_count": 15,
   "metadata": {},
   "outputs": [
    {
     "name": "stdout",
     "output_type": "stream",
     "text": [
      "[4, 5] found\n",
      "3.14 not found\n"
     ]
    }
   ],
   "source": [
    "#search for each of the object in test in items\n",
    "items = [\"aaa\", 111,[4,5], 2.01]\n",
    "tests = [[4,5], 3.14]\n",
    "for test in tests:\n",
    "    if test in items:\n",
    "        print(test, \"found\")\n",
    "    else:\n",
    "        print(test, \"not found\")"
   ]
  },
  {
   "cell_type": "markdown",
   "metadata": {},
   "source": [
    "Python provides a built in tool that allows you to specialize the iteration in a for loop.  The built in range function produces a series of successively higher integers, which can be used as indexes in a for loop.\n",
    "\n",
    "The range function is really a general tool that can be used in a variety of contexts, although it is used most often to generate indexes in a for loop. In Python 3.X, range is an iterator that needs to be wrapped in a list call to display its results all at once."
   ]
  },
  {
   "cell_type": "code",
   "execution_count": 16,
   "metadata": {},
   "outputs": [
    {
     "data": {
      "text/plain": [
       "[0, 1, 2, 3, 4]"
      ]
     },
     "execution_count": 16,
     "metadata": {},
     "output_type": "execute_result"
    },
    {
     "data": {
      "text/plain": [
       "[2, 3, 4]"
      ]
     },
     "execution_count": 16,
     "metadata": {},
     "output_type": "execute_result"
    },
    {
     "data": {
      "text/plain": [
       "[10, 9, 8, 7, 6, 5, 4, 3, 2, 1]"
      ]
     },
     "execution_count": 16,
     "metadata": {},
     "output_type": "execute_result"
    }
   ],
   "source": [
    "list(range(5)) \n",
    "list(range(2,5))\n",
    "list(range(10,0,-1))"
   ]
  },
  {
   "cell_type": "markdown",
   "metadata": {},
   "source": [
    "With one argument, range generates a list of integers from zero up to but not including the argument's value. With two arguments you can specify a starting point and with three you can specify a step size."
   ]
  },
  {
   "cell_type": "code",
   "execution_count": 39,
   "metadata": {},
   "outputs": [
    {
     "name": "stdout",
     "output_type": "stream",
     "text": [
      "0 1 2 "
     ]
    }
   ],
   "source": [
    "for i in range(3):\n",
    "    print(i)  "
   ]
  },
  {
   "cell_type": "code",
   "execution_count": 17,
   "metadata": {},
   "outputs": [
    {
     "name": "stdout",
     "output_type": "stream",
     "text": [
      "1\n",
      "2\n",
      "3\n",
      "4\n",
      "1\n",
      "2\n",
      "3\n",
      "4\n"
     ]
    }
   ],
   "source": [
    "#verbose way to iterate over elements of a list. This gives you access to the index of each of the elements and not the elements themselves\n",
    "l=[1,2,3,4]\n",
    "for x in l:\n",
    "    print(x)\n",
    "    \n",
    "for i in range(len(l)):\n",
    "    print(l[i])"
   ]
  },
  {
   "cell_type": "code",
   "execution_count": 24,
   "metadata": {},
   "outputs": [
    {
     "name": "stdout",
     "output_type": "stream",
     "text": [
      "2 4 "
     ]
    }
   ],
   "source": [
    "l=[1,2,3,4]\n",
    "#get every second element of list\n",
    "for i in range(1,len(l),2):\n",
    "    print(l[i])\n",
    "    "
   ]
  },
  {
   "cell_type": "code",
   "execution_count": 32,
   "metadata": {},
   "outputs": [
    {
     "name": "stdout",
     "output_type": "stream",
     "text": [
      "15 is not prime since 3 is multiple\n"
     ]
    }
   ],
   "source": [
    "#Check if x is prime. If not give a multiple that neither 1 nor x.\n",
    "x= 15\n",
    "flag=0\n",
    "for i in range(2,x):\n",
    "    \n",
    "    if x%i ==0:\n",
    "        flag=1\n",
    "        multiple = i\n",
    "        break\n",
    "\n",
    "if flag==0:\n",
    "    print(\"%d is prime\" %x)\n",
    "else:\n",
    "    print(\"%d is not prime since %d is multiple\" %(x, multiple))"
   ]
  },
  {
   "cell_type": "code",
   "execution_count": 29,
   "metadata": {},
   "outputs": [
    {
     "name": "stdout",
     "output_type": "stream",
     "text": [
      "1 2 3 4 5 6 7 8 9 10 11 12 \n",
      "\n",
      "2 4 6 8 10 12 14 16 18 20 22 24 \n",
      "\n",
      "3 6 9 12 15 18 21 24 27 30 33 36 \n",
      "\n",
      "4 8 12 16 20 24 28 32 36 40 44 48 \n",
      "\n",
      "5 10 15 20 25 30 35 40 45 50 55 60 \n",
      "\n",
      "6 12 18 24 30 36 42 48 54 60 66 72 \n",
      "\n",
      "7 14 21 28 35 42 49 56 63 70 77 84 \n",
      "\n",
      "8 16 24 32 40 48 56 64 72 80 88 96 \n",
      "\n",
      "9 18 27 36 45 54 63 72 81 90 99 108 \n",
      "\n",
      "10 20 30 40 50 60 70 80 90 100 110 120 \n",
      "\n",
      "11 22 33 44 55 66 77 88 99 110 121 132 \n",
      "\n",
      "12 24 36 48 60 72 84 96 108 120 132 144 \n",
      "\n"
     ]
    }
   ],
   "source": [
    "#Make 12x12 multiplication table\n",
    "for i in range(1,13):\n",
    "    for j in range(1,13):\n",
    "        print(i*j, end = ' ')\n",
    "    print('\\n')"
   ]
  },
  {
   "cell_type": "code",
   "execution_count": 31,
   "metadata": {},
   "outputs": [
    {
     "name": "stdout",
     "output_type": "stream",
     "text": [
      "Total number of a's is 3\n"
     ]
    }
   ],
   "source": [
    "#Count number of \"a\"s in all words of the list\n",
    "\n",
    "names_list = [\"Jake\", \"Jonathon\" , \"Max\"]\n",
    "count_a = 0\n",
    "for name in names_list:\n",
    "    for letter in name:\n",
    "        if letter == \"a\":\n",
    "            count_a+=1\n",
    "print(\"Total number of a's is %d\" %count_a)"
   ]
  },
  {
   "cell_type": "markdown",
   "metadata": {},
   "source": [
    "# While and For Loops\n",
    "\n",
    "The while loop provides a way to code general loops.  The for loop is designed for stepping through the items in a sequence object and running a block of code for each element in the sequence.\n",
    "\n",
    "## While Loop\n",
    "\n",
    "In simple terms, it repeatedly executes a block of statements as long as a test at the top keeps evaluating to a true value.  The general form is as follows\n",
    "\n",
    "while *test*:\n",
    "\n",
    "    *statement1*\n",
    "else:\n",
    "    \n",
    "    *statement2*\n",
    "    \n",
    "The else at the end is optional and will only run if you didn't exit the loop with a break (more on this later).\n"
   ]
  },
  {
   "cell_type": "code",
   "execution_count": 12,
   "metadata": {},
   "outputs": [
    {
     "name": "stdout",
     "output_type": "stream",
     "text": [
      "spam\n",
      "pam\n",
      "am\n",
      "m\n"
     ]
    }
   ],
   "source": [
    "#slowly chopping the spam\n",
    "word='spam'\n",
    "while word !='':\n",
    "    print(word)\n",
    "    word = word[1:]"
   ]
  },
  {
   "cell_type": "code",
   "execution_count": 11,
   "metadata": {},
   "outputs": [
    {
     "name": "stdout",
     "output_type": "stream",
     "text": [
      "1 2 3 4 5 6 7 8 9 10 "
     ]
    }
   ],
   "source": [
    "#Another example\n",
    "a=0\n",
    "b=10\n",
    "while a<b:\n",
    "    #a=a+1\n",
    "    a+=1\n",
    "    #prints in single line\n",
    "    print(a, end = ' ')"
   ]
  }
 ],
 "metadata": {
  "kernelspec": {
   "display_name": "Python 3",
   "language": "python",
   "name": "python3"
  },
  "language_info": {
   "codemirror_mode": {
    "name": "ipython",
    "version": 3
   },
   "file_extension": ".py",
   "mimetype": "text/x-python",
   "name": "python",
   "nbconvert_exporter": "python",
   "pygments_lexer": "ipython3",
   "version": "3.8.8"
  },
  "toc": {
   "colors": {
    "hover_highlight": "#DAA520",
    "navigate_num": "#000000",
    "navigate_text": "#333333",
    "running_highlight": "#FF0000",
    "selected_highlight": "#FFD700",
    "sidebar_border": "#EEEEEE",
    "wrapper_background": "#FFFFFF"
   },
   "moveMenuLeft": true,
   "nav_menu": {
    "height": "12px",
    "width": "252px"
   },
   "navigate_menu": true,
   "number_sections": true,
   "sideBar": true,
   "skip_h1_title": false,
   "threshold": 4,
   "toc_cell": false,
   "toc_position": {},
   "toc_section_display": "block",
   "toc_window_display": false,
   "widenNotebook": false
  }
 },
 "nbformat": 4,
 "nbformat_minor": 2
}
