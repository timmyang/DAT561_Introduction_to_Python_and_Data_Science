{
 "cells": [
  {
   "cell_type": "markdown",
   "metadata": {},
   "source": [
    "# Conditionals\n",
    "\n",
    "Check if the x is perfect square.  If it is, print \"x is a perfect square\".  If not print \"x is not a perfect square\"."
   ]
  },
  {
   "cell_type": "code",
   "execution_count": 1,
   "metadata": {},
   "outputs": [],
   "source": [
    "#Write your code here.\n",
    "x = 25\n"
   ]
  },
  {
   "cell_type": "markdown",
   "metadata": {},
   "source": [
    "Create a list L of arbitrary length. Get the median.\n"
   ]
  },
  {
   "cell_type": "code",
   "execution_count": 2,
   "metadata": {},
   "outputs": [],
   "source": [
    "#Write your code here\n",
    "L = [213, 123, 21, 2, 12, 11, 7]\n"
   ]
  },
  {
   "cell_type": "markdown",
   "metadata": {},
   "source": [
    "If there are fewer than 10 students in the class, then the top three students get an  A and the rest get a B.  Otherwise, the grade breakdown is as follows:\n",
    "\n",
    "- A: 90-100\n",
    "- B: 80-89\n",
    "- C: 70 - 79\n",
    "- D: 65 - 69\n",
    "- Failing: Below 65\n",
    "\n",
    "Given the list of grades in grades_list, print the grade received by the last student in this list. So if we have\n",
    "\n",
    "    grade_list = [50, 90, 91, 88, 75]\n",
    "\n",
    "we want to print the grade received by the student who received a 75. In this case it would be a B.\n",
    "\n"
   ]
  },
  {
   "cell_type": "code",
   "execution_count": 3,
   "metadata": {},
   "outputs": [],
   "source": [
    "#Write your code here\n"
   ]
  },
  {
   "cell_type": "code",
   "execution_count": 4,
   "metadata": {},
   "outputs": [],
   "source": [
    "grade_list = [50, 90, 91, 88, 75]"
   ]
  },
  {
   "cell_type": "markdown",
   "metadata": {},
   "source": [
    "# For Loops\n",
    "\n",
    "Count the number of n's in your name (lower and uppercase count)"
   ]
  },
  {
   "cell_type": "code",
   "execution_count": 24,
   "metadata": {},
   "outputs": [
    {
     "data": {
      "text/plain": [
       "1"
      ]
     },
     "execution_count": 24,
     "metadata": {},
     "output_type": "execute_result"
    }
   ],
   "source": [
    "#Write your code here\n",
    "name = \"Salih Tutun\"\n"
   ]
  },
  {
   "cell_type": "markdown",
   "metadata": {},
   "source": [
    "Get all of the factors of a number and store them in a list"
   ]
  },
  {
   "cell_type": "code",
   "execution_count": 5,
   "metadata": {},
   "outputs": [],
   "source": [
    "#Write your code here\n",
    "n = 6 # [1, 2, 3, 6]\n"
   ]
  },
  {
   "cell_type": "markdown",
   "metadata": {},
   "source": [
    "Generate the first N numbers of the Fibonacci sequence where \n",
    "\n",
    "$a_0 = 1$\n",
    "\n",
    "$a_1=1$\n",
    "\n",
    "$a_n = a_{n-1} + a_{n-2}$"
   ]
  },
  {
   "cell_type": "code",
   "execution_count": 6,
   "metadata": {},
   "outputs": [],
   "source": [
    "#Write your code here\n",
    "n = 10\n",
    "\n"
   ]
  },
  {
   "cell_type": "markdown",
   "metadata": {},
   "source": [
    "Compute the dot product of lists l1 and l2. **This is an example where iterating over the index is better than over the elements themselves**\n"
   ]
  },
  {
   "cell_type": "code",
   "execution_count": 7,
   "metadata": {},
   "outputs": [],
   "source": [
    "#Write your code here\n",
    "l1 = [2, 3, 4, 5, 6, 1, 90]\n",
    "l2 = [3, 1, 5, 1, 2, 1, 10]\n",
    "\n"
   ]
  },
  {
   "cell_type": "markdown",
   "metadata": {},
   "source": [
    "Given two strings, test how many times the first string contains the second.  For example if str1 = \"**co**ding is **co**ol\" and str2 = \"co\" then output should be 2."
   ]
  },
  {
   "cell_type": "code",
   "execution_count": 11,
   "metadata": {},
   "outputs": [],
   "source": [
    "#Write you code here\n",
    "str1 = \"coding is cool\"\n",
    "str2 = \"co\"\n",
    "\n"
   ]
  },
  {
   "cell_type": "markdown",
   "metadata": {},
   "source": [
    "Code up the locker brain teaser below. Print out a list of the open locker numbers. Let N be the number of lockers and students"
   ]
  },
  {
   "cell_type": "code",
   "execution_count": 12,
   "metadata": {},
   "outputs": [],
   "source": [
    "#Write your code here  \n",
    "N=200\n",
    "\n",
    "    \n"
   ]
  },
  {
   "cell_type": "markdown",
   "metadata": {},
   "source": [
    "initial[0,0,0,0,0,0]\n",
    "s=1--> [1,1,1,1,1,1]\n",
    "s=2--> [1,0,1,0,1,0]\n",
    "s=3--> [1,0,0,0,1,1]\n",
    "s=4--> [1,0,0,1,1,1]\n",
    "s=5--> [1,0,0,1,0,1]\n",
    "s=6--> [1,0,0,1,0,0]"
   ]
  }
 ],
 "metadata": {
  "kernelspec": {
   "display_name": "Python 3",
   "language": "python",
   "name": "python3"
  },
  "language_info": {
   "codemirror_mode": {
    "name": "ipython",
    "version": 3
   },
   "file_extension": ".py",
   "mimetype": "text/x-python",
   "name": "python",
   "nbconvert_exporter": "python",
   "pygments_lexer": "ipython3",
   "version": "3.8.8"
  },
  "toc": {
   "nav_menu": {
    "height": "48px",
    "width": "252px"
   },
   "number_sections": true,
   "sideBar": true,
   "skip_h1_title": false,
   "toc_cell": false,
   "toc_position": {},
   "toc_section_display": "block",
   "toc_window_display": false
  }
 },
 "nbformat": 4,
 "nbformat_minor": 2
}
