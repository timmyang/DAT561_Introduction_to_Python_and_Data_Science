{
 "cells": [
  {
   "cell_type": "markdown",
   "metadata": {},
   "source": [
    "# Checking Primes\n",
    "\n",
    "In this practice, you will write code to check whether x is a prime number of or not.  Your code should work for arbitrary integer x.  If x is prime, then your code should print \"x is a prime!\".  If x is not prime, you code should print \"x is not prime, it has a factor of 7!\" (You can print any factor that is not 1 or x). So if x is 7, your code should print \"7 is a prime!\". And if x is 9, your code should print \"x is not prime, it has a factor of 3!\""
   ]
  },
  {
   "cell_type": "code",
   "execution_count": 87,
   "metadata": {},
   "outputs": [
    {
     "name": "stdout",
     "output_type": "stream",
     "text": [
      "Check if the number is prime: 6\n"
     ]
    },
    {
     "data": {
      "text/plain": [
       "'6 is not prime, it has a factor of [2, 3]!'"
      ]
     },
     "execution_count": 87,
     "metadata": {},
     "output_type": "execute_result"
    }
   ],
   "source": [
    "x = int(input(\"Check if the number is prime: \" + \"\"))\n",
    "count = 2\n",
    "flag = 0\n",
    "L = []\n",
    "ans = \"\"\n",
    "\n",
    "if x == 1 or x == 2:\n",
    "        ans = str(x) + \" is a prime!\"\n",
    "        \n",
    "else:\n",
    "    \n",
    "    for i in range(2, x):\n",
    "\n",
    "        count += 1\n",
    "\n",
    "        if x % i == 0:\n",
    "            L += [i]\n",
    "            flag = 1\n",
    "            ans = str(x) + \" is not prime, it has a factor of \" + str(L) + \"!\"\n",
    "\n",
    "        elif count == x and flag == 0:\n",
    "            ans = str(x) + \" is a prime!\"\n",
    "\n",
    "ans\n"
   ]
  }
 ],
 "metadata": {
  "kernelspec": {
   "display_name": "Python 3",
   "language": "python",
   "name": "python3"
  },
  "language_info": {
   "codemirror_mode": {
    "name": "ipython",
    "version": 3
   },
   "file_extension": ".py",
   "mimetype": "text/x-python",
   "name": "python",
   "nbconvert_exporter": "python",
   "pygments_lexer": "ipython3",
   "version": "3.8.8"
  },
  "toc": {
   "colors": {
    "hover_highlight": "#DAA520",
    "navigate_num": "#000000",
    "navigate_text": "#333333",
    "running_highlight": "#FF0000",
    "selected_highlight": "#FFD700",
    "sidebar_border": "#EEEEEE",
    "wrapper_background": "#FFFFFF"
   },
   "moveMenuLeft": true,
   "nav_menu": {
    "height": "30px",
    "width": "252px"
   },
   "navigate_menu": true,
   "number_sections": true,
   "sideBar": true,
   "threshold": 4,
   "toc_cell": false,
   "toc_section_display": "block",
   "toc_window_display": false,
   "widenNotebook": false
  }
 },
 "nbformat": 4,
 "nbformat_minor": 2
}
