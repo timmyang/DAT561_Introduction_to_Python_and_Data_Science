{
 "cells": [
  {
   "cell_type": "markdown",
   "id": "4b7ba5f7",
   "metadata": {},
   "source": [
    "# Lab 2"
   ]
  },
  {
   "cell_type": "markdown",
   "id": "660fe63f",
   "metadata": {},
   "source": [
    "## 2.1 Basic Ifs"
   ]
  },
  {
   "cell_type": "code",
   "execution_count": 1,
   "id": "4ef4b065",
   "metadata": {},
   "outputs": [
    {
     "name": "stdout",
     "output_type": "stream",
     "text": [
      "6\n"
     ]
    }
   ],
   "source": [
    "# Basic IFs\n",
    "\n",
    "x = 6\n",
    "\n",
    "# is x greater than 5?\n",
    "if x > 5:\n",
    "        print(x)"
   ]
  },
  {
   "cell_type": "code",
   "execution_count": 3,
   "id": "939de801",
   "metadata": {},
   "outputs": [
    {
     "name": "stdout",
     "output_type": "stream",
     "text": [
      "Below 5\n"
     ]
    }
   ],
   "source": [
    "# IF + ELSE statement\n",
    "\n",
    "x = 4\n",
    "\n",
    "# is x greater than 5?\n",
    "if x > 5:\n",
    "    print(x)\n",
    "    \n",
    "else:\n",
    "    print(\"Below 5\")"
   ]
  },
  {
   "cell_type": "code",
   "execution_count": 4,
   "id": "ca3895bb",
   "metadata": {},
   "outputs": [
    {
     "name": "stdout",
     "output_type": "stream",
     "text": [
      "Run!!!!\n"
     ]
    }
   ],
   "source": [
    "# IF + ELIF + ELSE statement\n",
    "\n",
    "x = 'kiler rabbit'\n",
    "\n",
    "if x == 'roger':\n",
    "    print(\"hello jessica\")\n",
    "    \n",
    "elif x == 'bugs':\n",
    "    print(\"What's up doc\")\n",
    "    \n",
    "else:\n",
    "    print(\"Run!!!!\")"
   ]
  },
  {
   "cell_type": "markdown",
   "id": "9686cd6c",
   "metadata": {},
   "source": [
    "## 2.2 Nested If and/or"
   ]
  },
  {
   "cell_type": "code",
   "execution_count": 7,
   "id": "e23e88cf",
   "metadata": {},
   "outputs": [
    {
     "name": "stdout",
     "output_type": "stream",
     "text": [
      "food menu\n"
     ]
    }
   ],
   "source": [
    "# Nested if statement\n",
    "\n",
    "age = 22\n",
    "activity = 'eat'\n",
    "\n",
    "if age >= 21:\n",
    "    \n",
    "    if activity == \"eat\":\n",
    "        print(\"food menu\")\n",
    "    \n",
    "    elif activity == \"drinks\":\n",
    "        print(\"drink menu\")\n",
    "        \n",
    "    else:\n",
    "        print(\"wrong place\")\n",
    "\n",
    "else:\n",
    "    print(\"You are underaged\")"
   ]
  },
  {
   "cell_type": "code",
   "execution_count": 8,
   "id": "df57f4d0",
   "metadata": {},
   "outputs": [
    {
     "data": {
      "text/plain": [
       "True"
      ]
     },
     "execution_count": 8,
     "metadata": {},
     "output_type": "execute_result"
    }
   ],
   "source": [
    "# Specifying multiple conditions - AND\n",
    "\n",
    "x = 10\n",
    "\n",
    "x > 5 and x%2 == 0"
   ]
  },
  {
   "cell_type": "code",
   "execution_count": 9,
   "id": "9732a2ac",
   "metadata": {},
   "outputs": [
    {
     "data": {
      "text/plain": [
       "False"
      ]
     },
     "execution_count": 9,
     "metadata": {},
     "output_type": "execute_result"
    }
   ],
   "source": [
    "# Another example\n",
    "\n",
    "name = 'Jake'\n",
    "name[0] == 'J' and len(name) > 5"
   ]
  },
  {
   "cell_type": "code",
   "execution_count": 10,
   "id": "6c510539",
   "metadata": {},
   "outputs": [
    {
     "data": {
      "text/plain": [
       "True"
      ]
     },
     "execution_count": 10,
     "metadata": {},
     "output_type": "execute_result"
    }
   ],
   "source": [
    "# Specifying mutliple conditions = OR\n",
    "\n",
    "L = [1, 2, 3, 4]\n",
    "L[0] == 'a' or sum(L) != 5"
   ]
  },
  {
   "cell_type": "code",
   "execution_count": 11,
   "id": "9f68013e",
   "metadata": {},
   "outputs": [
    {
     "data": {
      "text/plain": [
       "True"
      ]
     },
     "execution_count": 11,
     "metadata": {},
     "output_type": "execute_result"
    }
   ],
   "source": [
    "# And + or\n",
    "(name == \"Joe\" or 'a' in name) and 5 not in L"
   ]
  },
  {
   "cell_type": "code",
   "execution_count": 14,
   "id": "4367f80a",
   "metadata": {},
   "outputs": [
    {
     "name": "stdout",
     "output_type": "stream",
     "text": [
      "all-star\n"
     ]
    }
   ],
   "source": [
    "# Nested Conditionals\n",
    "bat_avg = 0.312\n",
    "hr = 39\n",
    "rbi = 103\n",
    "\n",
    "if bat_avg > 0.33:\n",
    "    print(\"all-star\")\n",
    "\n",
    "else:\n",
    "    if hr > 40 or rbi > 150:\n",
    "        print(\"all-star\")\n",
    "        \n",
    "    elif bat_avg > 0.3 and hr > 30 and rbi > 100:\n",
    "        print(\"all-star\")\n",
    "    \n",
    "    else:\n",
    "        print(\"none\")"
   ]
  },
  {
   "cell_type": "markdown",
   "id": "9e66ff21",
   "metadata": {},
   "source": [
    "## 2.3 For Loops Part 1"
   ]
  },
  {
   "cell_type": "code",
   "execution_count": null,
   "id": "376eceb4",
   "metadata": {},
   "outputs": [],
   "source": [
    "# FOR loops with list"
   ]
  },
  {
   "cell_type": "code",
   "execution_count": 17,
   "id": "e59e9e5c",
   "metadata": {},
   "outputs": [
    {
     "data": {
      "text/plain": [
       "20"
      ]
     },
     "execution_count": 17,
     "metadata": {},
     "output_type": "execute_result"
    }
   ],
   "source": [
    "list_nums = [2, 4, 6, 8]\n",
    "total = 0\n",
    "\n",
    "for num in list_nums:\n",
    "    total += num\n",
    "\n",
    "total"
   ]
  },
  {
   "cell_type": "code",
   "execution_count": 19,
   "id": "b519ed2b",
   "metadata": {},
   "outputs": [
    {
     "data": {
      "text/plain": [
       "3"
      ]
     },
     "execution_count": 19,
     "metadata": {},
     "output_type": "execute_result"
    }
   ],
   "source": [
    "sentence = \"Charlie likes walks\"\n",
    "count = 0\n",
    "\n",
    "for c in sentence:\n",
    "    if c == \" \":\n",
    "        count += 1\n",
    "\n",
    "total_words = count + 1\n",
    "total_words"
   ]
  },
  {
   "cell_type": "markdown",
   "id": "921107ef",
   "metadata": {},
   "source": [
    "## 2.4 For Loops Part 2"
   ]
  },
  {
   "cell_type": "code",
   "execution_count": 20,
   "id": "449997b5",
   "metadata": {},
   "outputs": [
    {
     "data": {
      "text/plain": [
       "range(0, 5)"
      ]
     },
     "execution_count": 20,
     "metadata": {},
     "output_type": "execute_result"
    }
   ],
   "source": [
    "# Using range\n",
    "range(0, 5)"
   ]
  },
  {
   "cell_type": "code",
   "execution_count": 21,
   "id": "86e17543",
   "metadata": {},
   "outputs": [
    {
     "data": {
      "text/plain": [
       "[0, 1, 2, 3, 4]"
      ]
     },
     "execution_count": 21,
     "metadata": {},
     "output_type": "execute_result"
    }
   ],
   "source": [
    "list(range(5))"
   ]
  },
  {
   "cell_type": "code",
   "execution_count": 22,
   "id": "31412e1c",
   "metadata": {},
   "outputs": [
    {
     "name": "stdout",
     "output_type": "stream",
     "text": [
      "0\n",
      "1\n",
      "2\n",
      "3\n",
      "4\n"
     ]
    }
   ],
   "source": [
    "for i in range(5):\n",
    "    print(i)"
   ]
  },
  {
   "cell_type": "code",
   "execution_count": 23,
   "id": "5d19f456",
   "metadata": {},
   "outputs": [
    {
     "data": {
      "text/plain": [
       "[0, 2, 4]"
      ]
     },
     "execution_count": 23,
     "metadata": {},
     "output_type": "execute_result"
    }
   ],
   "source": [
    "even_nums = []\n",
    "\n",
    "for i in range(5):\n",
    "    if i % 2 == 0:\n",
    "        even_nums += [i]\n",
    "        \n",
    "even_nums"
   ]
  },
  {
   "cell_type": "code",
   "execution_count": 25,
   "id": "89d410ca",
   "metadata": {},
   "outputs": [
    {
     "data": {
      "text/plain": [
       "[0.803736029701673,\n",
       " 0.7000912506503573,\n",
       " 0.2135370577493575,\n",
       " 0.6802734098350155,\n",
       " 0.30376010853197644,\n",
       " 0.621363662045909,\n",
       " 0.13788032690308938,\n",
       " 0.49981797335869016,\n",
       " 0.3166495617035108,\n",
       " 0.5795359393986228]"
      ]
     },
     "execution_count": 25,
     "metadata": {},
     "output_type": "execute_result"
    }
   ],
   "source": [
    "# FOR loops with range\n",
    "import numpy as np\n",
    "\n",
    "n = 10\n",
    "random_nums = []\n",
    "\n",
    "for i in range(n):\n",
    "    x = np.random.uniform()\n",
    "    random_nums += [x]\n",
    "\n",
    "random_nums"
   ]
  },
  {
   "cell_type": "code",
   "execution_count": 29,
   "id": "4d178c4d",
   "metadata": {},
   "outputs": [
    {
     "name": "stdout",
     "output_type": "stream",
     "text": [
      "3\n",
      "S\n",
      "5\n",
      "[7, 8, 9]\n"
     ]
    }
   ],
   "source": [
    "L = [3, \"S\", 5, [7, 8, 9]]\n",
    "\n",
    "for i in range(len(L)):\n",
    "    print(L[i])"
   ]
  },
  {
   "cell_type": "code",
   "execution_count": null,
   "id": "151c56f8",
   "metadata": {},
   "outputs": [],
   "source": []
  },
  {
   "cell_type": "code",
   "execution_count": null,
   "id": "2df91cfe",
   "metadata": {},
   "outputs": [],
   "source": []
  },
  {
   "cell_type": "code",
   "execution_count": null,
   "id": "ce4a1530",
   "metadata": {},
   "outputs": [],
   "source": []
  },
  {
   "cell_type": "code",
   "execution_count": null,
   "id": "01bb6b70",
   "metadata": {},
   "outputs": [],
   "source": []
  },
  {
   "cell_type": "code",
   "execution_count": null,
   "id": "3a2fa8b0",
   "metadata": {},
   "outputs": [],
   "source": []
  },
  {
   "cell_type": "code",
   "execution_count": null,
   "id": "20d3e3a2",
   "metadata": {},
   "outputs": [],
   "source": []
  },
  {
   "cell_type": "code",
   "execution_count": null,
   "id": "3e64f6e9",
   "metadata": {},
   "outputs": [],
   "source": []
  },
  {
   "cell_type": "code",
   "execution_count": null,
   "id": "f793ef0c",
   "metadata": {},
   "outputs": [],
   "source": []
  },
  {
   "cell_type": "code",
   "execution_count": null,
   "id": "d516be9b",
   "metadata": {},
   "outputs": [],
   "source": []
  }
 ],
 "metadata": {
  "kernelspec": {
   "display_name": "Python 3",
   "language": "python",
   "name": "python3"
  },
  "language_info": {
   "codemirror_mode": {
    "name": "ipython",
    "version": 3
   },
   "file_extension": ".py",
   "mimetype": "text/x-python",
   "name": "python",
   "nbconvert_exporter": "python",
   "pygments_lexer": "ipython3",
   "version": "3.8.8"
  }
 },
 "nbformat": 4,
 "nbformat_minor": 5
}
