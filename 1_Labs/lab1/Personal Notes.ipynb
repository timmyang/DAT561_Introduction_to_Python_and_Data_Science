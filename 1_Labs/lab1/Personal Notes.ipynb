{
 "cells": [
  {
   "cell_type": "markdown",
   "id": "9adafc02",
   "metadata": {},
   "source": [
    "# Lab 1.\n",
    "\n",
    "## 1.1 Objects"
   ]
  },
  {
   "cell_type": "code",
   "execution_count": 2,
   "id": "954395c6",
   "metadata": {},
   "outputs": [
    {
     "data": {
      "text/plain": [
       "5"
      ]
     },
     "execution_count": 2,
     "metadata": {},
     "output_type": "execute_result"
    }
   ],
   "source": [
    "# Our first Object stored in a variable called \"X\"\n",
    "x = 5\n",
    "x"
   ]
  },
  {
   "cell_type": "code",
   "execution_count": 22,
   "id": "cb278409",
   "metadata": {},
   "outputs": [],
   "source": [
    "# Types of Python Objects\n",
    "# 1. Number, 2. Strings, 3. Lists"
   ]
  },
  {
   "cell_type": "code",
   "execution_count": 7,
   "id": "493ff109",
   "metadata": {},
   "outputs": [],
   "source": [
    "# Every Python obejct is stored in a variable.\n",
    "x = 5\n",
    "y = 6.6"
   ]
  },
  {
   "cell_type": "code",
   "execution_count": 3,
   "id": "a1876dac",
   "metadata": {},
   "outputs": [
    {
     "data": {
      "text/plain": [
       "11.6"
      ]
     },
     "execution_count": 3,
     "metadata": {},
     "output_type": "execute_result"
    }
   ],
   "source": [
    "# Addition\n",
    "x + y"
   ]
  },
  {
   "cell_type": "code",
   "execution_count": 4,
   "id": "100cd8b0",
   "metadata": {},
   "outputs": [
    {
     "data": {
      "text/plain": [
       "1.5999999999999996"
      ]
     },
     "execution_count": 4,
     "metadata": {},
     "output_type": "execute_result"
    }
   ],
   "source": [
    "# Substraction\n",
    "y - x"
   ]
  },
  {
   "cell_type": "code",
   "execution_count": 5,
   "id": "284144dc",
   "metadata": {},
   "outputs": [
    {
     "data": {
      "text/plain": [
       "33.0"
      ]
     },
     "execution_count": 5,
     "metadata": {},
     "output_type": "execute_result"
    }
   ],
   "source": [
    "# Multiplication\n",
    "x * y"
   ]
  },
  {
   "cell_type": "code",
   "execution_count": 6,
   "id": "7e02ccd2",
   "metadata": {},
   "outputs": [
    {
     "data": {
      "text/plain": [
       "25"
      ]
     },
     "execution_count": 6,
     "metadata": {},
     "output_type": "execute_result"
    }
   ],
   "source": [
    "# Exponentiating\n",
    "x ** 2"
   ]
  },
  {
   "cell_type": "code",
   "execution_count": 15,
   "id": "59ed80ad",
   "metadata": {},
   "outputs": [
    {
     "data": {
      "text/plain": [
       "2.75"
      ]
     },
     "execution_count": 15,
     "metadata": {},
     "output_type": "execute_result"
    }
   ],
   "source": [
    "# Using Variables\n",
    "num_quarters = 7\n",
    "num_nickels = 10\n",
    "num_dimes = 5\n",
    "\n",
    "total_change = num_quarters * .25 +\\\n",
    "                num_nickels * 0.05 +\\\n",
    "                num_dimes * 0.1\n",
    "\n",
    "total_change"
   ]
  },
  {
   "cell_type": "code",
   "execution_count": 16,
   "id": "9de38e23",
   "metadata": {},
   "outputs": [],
   "source": [
    "# You will often find yourself updating bariables:\n",
    "count = 0\n",
    "\n",
    "# When some other code executes, we want to add 1 to count\n",
    "count = count + 1\n",
    "\n",
    "# More concise\n",
    "count += 1"
   ]
  },
  {
   "cell_type": "markdown",
   "id": "4841386d",
   "metadata": {},
   "source": [
    "## 1.2 Booleans"
   ]
  },
  {
   "cell_type": "code",
   "execution_count": null,
   "id": "1f3b2c1e",
   "metadata": {},
   "outputs": [],
   "source": [
    "# Booleans are TRUE or FALSE\n",
    "\n",
    "# True = 1, False = 0"
   ]
  },
  {
   "cell_type": "code",
   "execution_count": 17,
   "id": "8204cac6",
   "metadata": {},
   "outputs": [
    {
     "data": {
      "text/plain": [
       "True"
      ]
     },
     "execution_count": 17,
     "metadata": {},
     "output_type": "execute_result"
    }
   ],
   "source": [
    "boolean_var = True\n",
    "boolean_var"
   ]
  },
  {
   "cell_type": "code",
   "execution_count": 18,
   "id": "294f903e",
   "metadata": {},
   "outputs": [
    {
     "data": {
      "text/plain": [
       "5"
      ]
     },
     "execution_count": 18,
     "metadata": {},
     "output_type": "execute_result"
    }
   ],
   "source": [
    "boolean_var * 5"
   ]
  },
  {
   "cell_type": "code",
   "execution_count": 20,
   "id": "1514c208",
   "metadata": {},
   "outputs": [
    {
     "data": {
      "text/plain": [
       "True"
      ]
     },
     "execution_count": 20,
     "metadata": {},
     "output_type": "execute_result"
    }
   ],
   "source": [
    "# Conditional Tests\n",
    "x = 5 # = is assignment\n",
    "x == 5 # == is asking if the variable is equal to 5"
   ]
  },
  {
   "cell_type": "code",
   "execution_count": 21,
   "id": "ab7b2a7b",
   "metadata": {},
   "outputs": [
    {
     "data": {
      "text/plain": [
       "False"
      ]
     },
     "execution_count": 21,
     "metadata": {},
     "output_type": "execute_result"
    }
   ],
   "source": [
    "x <= 4"
   ]
  },
  {
   "cell_type": "markdown",
   "id": "91f0fdee",
   "metadata": {},
   "source": [
    "## 1.3 Strings"
   ]
  },
  {
   "cell_type": "code",
   "execution_count": 23,
   "id": "c22062b2",
   "metadata": {},
   "outputs": [
    {
     "data": {
      "text/plain": [
       "'Charlie'"
      ]
     },
     "execution_count": 23,
     "metadata": {},
     "output_type": "execute_result"
    }
   ],
   "source": [
    "# Strings rae collections of characters used to represent text\n",
    "\n",
    "# \"String\" or 'String'\n",
    "name = 'Charlie'\n",
    "name"
   ]
  },
  {
   "cell_type": "code",
   "execution_count": 24,
   "id": "e8ef00b6",
   "metadata": {},
   "outputs": [
    {
     "data": {
      "text/plain": [
       "'Charlie'"
      ]
     },
     "execution_count": 24,
     "metadata": {},
     "output_type": "execute_result"
    }
   ],
   "source": [
    "name = \"Charlie\"\n",
    "name"
   ]
  },
  {
   "cell_type": "code",
   "execution_count": null,
   "id": "05e6fcc9",
   "metadata": {},
   "outputs": [],
   "source": [
    "# Indexing Strings\n",
    "name = 'Charlie' # index starts from 0 (= C)"
   ]
  },
  {
   "cell_type": "code",
   "execution_count": 25,
   "id": "a283bbe8",
   "metadata": {},
   "outputs": [
    {
     "data": {
      "text/plain": [
       "'C'"
      ]
     },
     "execution_count": 25,
     "metadata": {},
     "output_type": "execute_result"
    }
   ],
   "source": [
    "name[0]"
   ]
  },
  {
   "cell_type": "code",
   "execution_count": 26,
   "id": "3d4ce89d",
   "metadata": {},
   "outputs": [
    {
     "data": {
      "text/plain": [
       "'e'"
      ]
     },
     "execution_count": 26,
     "metadata": {},
     "output_type": "execute_result"
    }
   ],
   "source": [
    "name[6]"
   ]
  },
  {
   "cell_type": "code",
   "execution_count": 27,
   "id": "e1563a4f",
   "metadata": {},
   "outputs": [
    {
     "data": {
      "text/plain": [
       "'Char'"
      ]
     },
     "execution_count": 27,
     "metadata": {},
     "output_type": "execute_result"
    }
   ],
   "source": [
    "name[0:4] # 4th letter is not included"
   ]
  },
  {
   "cell_type": "code",
   "execution_count": 29,
   "id": "771971a5",
   "metadata": {},
   "outputs": [
    {
     "data": {
      "text/plain": [
       "'Ch'"
      ]
     },
     "execution_count": 29,
     "metadata": {},
     "output_type": "execute_result"
    }
   ],
   "source": [
    "name[:2]"
   ]
  },
  {
   "cell_type": "code",
   "execution_count": 30,
   "id": "81ab7c70",
   "metadata": {},
   "outputs": [
    {
     "data": {
      "text/plain": [
       "'arlie'"
      ]
     },
     "execution_count": 30,
     "metadata": {},
     "output_type": "execute_result"
    }
   ],
   "source": [
    "name[2:]"
   ]
  },
  {
   "cell_type": "code",
   "execution_count": 31,
   "id": "5ccdf882",
   "metadata": {},
   "outputs": [
    {
     "data": {
      "text/plain": [
       "' '"
      ]
     },
     "execution_count": 31,
     "metadata": {},
     "output_type": "execute_result"
    }
   ],
   "source": [
    "sentence = 'Charlie likes walks.'\n",
    "sentence[7]"
   ]
  },
  {
   "cell_type": "code",
   "execution_count": 32,
   "id": "e87c9c46",
   "metadata": {},
   "outputs": [
    {
     "data": {
      "text/plain": [
       "20"
      ]
     },
     "execution_count": 32,
     "metadata": {},
     "output_type": "execute_result"
    }
   ],
   "source": [
    "len(sentence) # letters, spaces, and punctuations all count"
   ]
  },
  {
   "cell_type": "code",
   "execution_count": 34,
   "id": "44883ba8",
   "metadata": {},
   "outputs": [
    {
     "data": {
      "text/plain": [
       "'JakeBelinoffFeldman'"
      ]
     },
     "execution_count": 34,
     "metadata": {},
     "output_type": "execute_result"
    }
   ],
   "source": [
    "# String Concatenation (Polymorphism) \"+\"\n",
    "first = \"Jake\"\n",
    "middle = \"Belinoff\"\n",
    "last = \"Feldman\"\n",
    "\n",
    "full_name = first + middle + last\n",
    "full_name"
   ]
  },
  {
   "cell_type": "code",
   "execution_count": 35,
   "id": "dbf4e83a",
   "metadata": {},
   "outputs": [
    {
     "data": {
      "text/plain": [
       "'Jake Belinoff Feldman'"
      ]
     },
     "execution_count": 35,
     "metadata": {},
     "output_type": "execute_result"
    }
   ],
   "source": [
    "full_name = first + \" \" + middle + \" \"+ last\n",
    "full_name"
   ]
  },
  {
   "cell_type": "code",
   "execution_count": 36,
   "id": "58b54ce2",
   "metadata": {},
   "outputs": [
    {
     "data": {
      "text/plain": [
       "'JBF'"
      ]
     },
     "execution_count": 36,
     "metadata": {},
     "output_type": "execute_result"
    }
   ],
   "source": [
    "initials = first[0] + middle[0] + last[0]\n",
    "initials"
   ]
  },
  {
   "cell_type": "code",
   "execution_count": 38,
   "id": "5ce3b74f",
   "metadata": {},
   "outputs": [],
   "source": [
    "# Using in\n",
    "name = \"Charlie\""
   ]
  },
  {
   "cell_type": "code",
   "execution_count": 39,
   "id": "4272e2ce",
   "metadata": {},
   "outputs": [
    {
     "data": {
      "text/plain": [
       "True"
      ]
     },
     "execution_count": 39,
     "metadata": {},
     "output_type": "execute_result"
    }
   ],
   "source": [
    "\"C\" in name"
   ]
  },
  {
   "cell_type": "code",
   "execution_count": 40,
   "id": "704b640d",
   "metadata": {},
   "outputs": [
    {
     "data": {
      "text/plain": [
       "True"
      ]
     },
     "execution_count": 40,
     "metadata": {},
     "output_type": "execute_result"
    }
   ],
   "source": [
    "\"arl\" in name"
   ]
  },
  {
   "cell_type": "code",
   "execution_count": 41,
   "id": "ce273c02",
   "metadata": {},
   "outputs": [
    {
     "data": {
      "text/plain": [
       "True"
      ]
     },
     "execution_count": 41,
     "metadata": {},
     "output_type": "execute_result"
    }
   ],
   "source": [
    "\"c\" not in name"
   ]
  },
  {
   "cell_type": "markdown",
   "id": "97824025",
   "metadata": {},
   "source": [
    "## 1.4 Lists"
   ]
  },
  {
   "cell_type": "code",
   "execution_count": null,
   "id": "8f051bc9",
   "metadata": {},
   "outputs": [],
   "source": [
    "# Ordered collection of arbitary obejcts\n",
    "## There is a left and right ordering (just like strings)\n",
    "## Can Contain numbers, strings, or even other lists\n",
    "\n",
    "# Elements in the list are accessed by their offset\n",
    "\n",
    "# Variable in length and arbitrarily nestable"
   ]
  },
  {
   "cell_type": "code",
   "execution_count": 42,
   "id": "226ff265",
   "metadata": {},
   "outputs": [
    {
     "data": {
      "text/plain": [
       "[1, 2, 3, 5]"
      ]
     },
     "execution_count": 42,
     "metadata": {},
     "output_type": "execute_result"
    }
   ],
   "source": [
    "# List of numbers\n",
    "nums = [1, 2, 3, 5]\n",
    "nums"
   ]
  },
  {
   "cell_type": "code",
   "execution_count": 43,
   "id": "83b61ec0",
   "metadata": {},
   "outputs": [
    {
     "data": {
      "text/plain": [
       "['Jake', 'Joe']"
      ]
     },
     "execution_count": 43,
     "metadata": {},
     "output_type": "execute_result"
    }
   ],
   "source": [
    "# List of strings\n",
    "names = [\"Jake\", \"Joe\"]\n",
    "names"
   ]
  },
  {
   "cell_type": "code",
   "execution_count": 44,
   "id": "568d3c2b",
   "metadata": {},
   "outputs": [
    {
     "data": {
      "text/plain": [
       "['a', 'b', 1, 2]"
      ]
     },
     "execution_count": 44,
     "metadata": {},
     "output_type": "execute_result"
    }
   ],
   "source": [
    "# List of Both\n",
    "L = ['a', 'b', 1, 2]\n",
    "L"
   ]
  },
  {
   "cell_type": "code",
   "execution_count": 47,
   "id": "e766f457",
   "metadata": {},
   "outputs": [],
   "source": [
    "# Indexing Lists\n",
    "nums = [1, 2, 3, 5]"
   ]
  },
  {
   "cell_type": "code",
   "execution_count": 48,
   "id": "33b18937",
   "metadata": {},
   "outputs": [
    {
     "data": {
      "text/plain": [
       "1"
      ]
     },
     "execution_count": 48,
     "metadata": {},
     "output_type": "execute_result"
    }
   ],
   "source": [
    "nums[0]"
   ]
  },
  {
   "cell_type": "code",
   "execution_count": 49,
   "id": "44485ded",
   "metadata": {},
   "outputs": [
    {
     "data": {
      "text/plain": [
       "5"
      ]
     },
     "execution_count": 49,
     "metadata": {},
     "output_type": "execute_result"
    }
   ],
   "source": [
    "nums[3]"
   ]
  },
  {
   "cell_type": "code",
   "execution_count": 50,
   "id": "46b72bb1",
   "metadata": {},
   "outputs": [
    {
     "data": {
      "text/plain": [
       "[2, 3]"
      ]
     },
     "execution_count": 50,
     "metadata": {},
     "output_type": "execute_result"
    }
   ],
   "source": [
    "nums[1:3]"
   ]
  },
  {
   "cell_type": "code",
   "execution_count": 51,
   "id": "0f8a34d0",
   "metadata": {},
   "outputs": [
    {
     "data": {
      "text/plain": [
       "[1, 2]"
      ]
     },
     "execution_count": 51,
     "metadata": {},
     "output_type": "execute_result"
    }
   ],
   "source": [
    "nums[:2]"
   ]
  },
  {
   "cell_type": "code",
   "execution_count": 53,
   "id": "aeddf01a",
   "metadata": {},
   "outputs": [
    {
     "data": {
      "text/plain": [
       "4"
      ]
     },
     "execution_count": 53,
     "metadata": {},
     "output_type": "execute_result"
    }
   ],
   "source": [
    "# number of elements in a list\n",
    "len(nums)"
   ]
  },
  {
   "cell_type": "code",
   "execution_count": 54,
   "id": "a479fd34",
   "metadata": {},
   "outputs": [],
   "source": [
    "# Nested Lists\n",
    "nested_L = [[1, 2, 3], ['a', 'b', 'c']]"
   ]
  },
  {
   "cell_type": "code",
   "execution_count": 55,
   "id": "e03cc7b8",
   "metadata": {},
   "outputs": [
    {
     "data": {
      "text/plain": [
       "[1, 2, 3]"
      ]
     },
     "execution_count": 55,
     "metadata": {},
     "output_type": "execute_result"
    }
   ],
   "source": [
    "nested_L[0]"
   ]
  },
  {
   "cell_type": "code",
   "execution_count": 56,
   "id": "373aa3fa",
   "metadata": {},
   "outputs": [
    {
     "data": {
      "text/plain": [
       "['a', 'b', 'c']"
      ]
     },
     "execution_count": 56,
     "metadata": {},
     "output_type": "execute_result"
    }
   ],
   "source": [
    "nested_L[1]"
   ]
  },
  {
   "cell_type": "code",
   "execution_count": 57,
   "id": "d5262d06",
   "metadata": {},
   "outputs": [
    {
     "data": {
      "text/plain": [
       "2"
      ]
     },
     "execution_count": 57,
     "metadata": {},
     "output_type": "execute_result"
    }
   ],
   "source": [
    "nested_L[0][1]"
   ]
  },
  {
   "cell_type": "code",
   "execution_count": 58,
   "id": "166edd15",
   "metadata": {},
   "outputs": [],
   "source": [
    "# Polymorphism with Lists"
   ]
  },
  {
   "cell_type": "code",
   "execution_count": 59,
   "id": "3e0fe854",
   "metadata": {},
   "outputs": [
    {
     "data": {
      "text/plain": [
       "[0]"
      ]
     },
     "execution_count": 59,
     "metadata": {},
     "output_type": "execute_result"
    }
   ],
   "source": [
    "# Set lockers\n",
    "lockers = [0]\n",
    "lockers"
   ]
  },
  {
   "cell_type": "code",
   "execution_count": 60,
   "id": "81289cf5",
   "metadata": {},
   "outputs": [
    {
     "data": {
      "text/plain": [
       "[0, 0]"
      ]
     },
     "execution_count": 60,
     "metadata": {},
     "output_type": "execute_result"
    }
   ],
   "source": [
    "# Concatenation\n",
    "lockers + [0]"
   ]
  },
  {
   "cell_type": "code",
   "execution_count": 61,
   "id": "0a26fd2d",
   "metadata": {},
   "outputs": [
    {
     "data": {
      "text/plain": [
       "[0, 0, 0, 0, 0]"
      ]
     },
     "execution_count": 61,
     "metadata": {},
     "output_type": "execute_result"
    }
   ],
   "source": [
    "# Using the *\n",
    "lockers * 5"
   ]
  },
  {
   "cell_type": "code",
   "execution_count": null,
   "id": "1b7db301",
   "metadata": {},
   "outputs": [],
   "source": [
    "# Using in with Lists"
   ]
  },
  {
   "cell_type": "code",
   "execution_count": 62,
   "id": "67725f39",
   "metadata": {},
   "outputs": [
    {
     "data": {
      "text/plain": [
       "[1, 2, 'a', 'b']"
      ]
     },
     "execution_count": 62,
     "metadata": {},
     "output_type": "execute_result"
    }
   ],
   "source": [
    "# Create list\n",
    "L = [1, 2, 'a', 'b']\n",
    "L"
   ]
  },
  {
   "cell_type": "code",
   "execution_count": 63,
   "id": "a788dbaf",
   "metadata": {},
   "outputs": [
    {
     "data": {
      "text/plain": [
       "False"
      ]
     },
     "execution_count": 63,
     "metadata": {},
     "output_type": "execute_result"
    }
   ],
   "source": [
    "# in with lists\n",
    "3 in L"
   ]
  },
  {
   "cell_type": "code",
   "execution_count": 64,
   "id": "5b225339",
   "metadata": {},
   "outputs": [
    {
     "data": {
      "text/plain": [
       "True"
      ]
     },
     "execution_count": 64,
     "metadata": {},
     "output_type": "execute_result"
    }
   ],
   "source": [
    "# not in with lists\n",
    "'c' not in L"
   ]
  },
  {
   "cell_type": "code",
   "execution_count": null,
   "id": "4c730f06",
   "metadata": {},
   "outputs": [],
   "source": [
    "# Sotring Lists"
   ]
  },
  {
   "cell_type": "code",
   "execution_count": 65,
   "id": "ae1d80c5",
   "metadata": {},
   "outputs": [],
   "source": [
    "# Build list\n",
    "L = [3, 4, 2, 1, 5]"
   ]
  },
  {
   "cell_type": "code",
   "execution_count": 66,
   "id": "4dfcf586",
   "metadata": {},
   "outputs": [
    {
     "data": {
      "text/plain": [
       "[1, 2, 3, 4, 5]"
      ]
     },
     "execution_count": 66,
     "metadata": {},
     "output_type": "execute_result"
    }
   ],
   "source": [
    "# Sort list\n",
    "sorted(L)"
   ]
  },
  {
   "cell_type": "code",
   "execution_count": 68,
   "id": "31cb7783",
   "metadata": {},
   "outputs": [
    {
     "data": {
      "text/plain": [
       "[5, 4, 3, 2, 1]"
      ]
     },
     "execution_count": 68,
     "metadata": {},
     "output_type": "execute_result"
    }
   ],
   "source": [
    "# keyword reverse\n",
    "sorted(L, reverse = True)"
   ]
  },
  {
   "cell_type": "markdown",
   "id": "a0bbe758",
   "metadata": {},
   "source": [
    "## 1.5 DataTypes"
   ]
  },
  {
   "cell_type": "code",
   "execution_count": 69,
   "id": "95f6736b",
   "metadata": {},
   "outputs": [],
   "source": [
    "# Checking the type"
   ]
  },
  {
   "cell_type": "code",
   "execution_count": 70,
   "id": "7c5a0dba",
   "metadata": {},
   "outputs": [
    {
     "data": {
      "text/plain": [
       "int"
      ]
     },
     "execution_count": 70,
     "metadata": {},
     "output_type": "execute_result"
    }
   ],
   "source": [
    "# Create a number \n",
    "x= 5\n",
    "\n",
    "# Check the type\n",
    "type(x)"
   ]
  },
  {
   "cell_type": "code",
   "execution_count": 71,
   "id": "1fb3909e",
   "metadata": {},
   "outputs": [
    {
     "data": {
      "text/plain": [
       "float"
      ]
     },
     "execution_count": 71,
     "metadata": {},
     "output_type": "execute_result"
    }
   ],
   "source": [
    "y = 5.5\n",
    "type(y)"
   ]
  },
  {
   "cell_type": "code",
   "execution_count": 72,
   "id": "57113ac4",
   "metadata": {},
   "outputs": [
    {
     "data": {
      "text/plain": [
       "str"
      ]
     },
     "execution_count": 72,
     "metadata": {},
     "output_type": "execute_result"
    }
   ],
   "source": [
    "s = \"5\"\n",
    "type(s)"
   ]
  },
  {
   "cell_type": "code",
   "execution_count": 73,
   "id": "71392685",
   "metadata": {},
   "outputs": [
    {
     "ename": "TypeError",
     "evalue": "unsupported operand type(s) for +: 'float' and 'str'",
     "output_type": "error",
     "traceback": [
      "\u001b[0;31m---------------------------------------------------------------------------\u001b[0m",
      "\u001b[0;31mTypeError\u001b[0m                                 Traceback (most recent call last)",
      "\u001b[0;32m<ipython-input-73-8aa76f410fb4>\u001b[0m in \u001b[0;36m<module>\u001b[0;34m\u001b[0m\n\u001b[1;32m      1\u001b[0m \u001b[0;31m# Concatenation???\u001b[0m\u001b[0;34m\u001b[0m\u001b[0;34m\u001b[0m\u001b[0;34m\u001b[0m\u001b[0m\n\u001b[0;32m----> 2\u001b[0;31m \u001b[0my\u001b[0m \u001b[0;34m+\u001b[0m \u001b[0ms\u001b[0m\u001b[0;34m\u001b[0m\u001b[0;34m\u001b[0m\u001b[0m\n\u001b[0m",
      "\u001b[0;31mTypeError\u001b[0m: unsupported operand type(s) for +: 'float' and 'str'"
     ]
    }
   ],
   "source": [
    "# Concatenation???\n",
    "y + s"
   ]
  },
  {
   "cell_type": "code",
   "execution_count": 74,
   "id": "262d9b9f",
   "metadata": {},
   "outputs": [
    {
     "data": {
      "text/plain": [
       "float"
      ]
     },
     "execution_count": 74,
     "metadata": {},
     "output_type": "execute_result"
    }
   ],
   "source": [
    "# Converting Types\n",
    "y = 5.5\n",
    "type(y)"
   ]
  },
  {
   "cell_type": "code",
   "execution_count": 75,
   "id": "5e8fcd4d",
   "metadata": {},
   "outputs": [
    {
     "data": {
      "text/plain": [
       "5"
      ]
     },
     "execution_count": 75,
     "metadata": {},
     "output_type": "execute_result"
    }
   ],
   "source": [
    "# Convert float to integer\n",
    "int_y = int(y)\n",
    "int_y"
   ]
  },
  {
   "cell_type": "code",
   "execution_count": 76,
   "id": "4f75c0ed",
   "metadata": {},
   "outputs": [
    {
     "data": {
      "text/plain": [
       "int"
      ]
     },
     "execution_count": 76,
     "metadata": {},
     "output_type": "execute_result"
    }
   ],
   "source": [
    "# Check type\n",
    "type(int_y)"
   ]
  },
  {
   "cell_type": "code",
   "execution_count": 78,
   "id": "7f4e4b94",
   "metadata": {},
   "outputs": [
    {
     "data": {
      "text/plain": [
       "'5.5'"
      ]
     },
     "execution_count": 78,
     "metadata": {},
     "output_type": "execute_result"
    }
   ],
   "source": [
    "# Convert to string\n",
    "str_y = str(y)\n",
    "str_y"
   ]
  },
  {
   "cell_type": "code",
   "execution_count": 79,
   "id": "0c2d11f3",
   "metadata": {},
   "outputs": [
    {
     "data": {
      "text/plain": [
       "str"
      ]
     },
     "execution_count": 79,
     "metadata": {},
     "output_type": "execute_result"
    }
   ],
   "source": [
    "type(str_y)"
   ]
  },
  {
   "cell_type": "code",
   "execution_count": 80,
   "id": "b4568516",
   "metadata": {},
   "outputs": [
    {
     "data": {
      "text/plain": [
       "5.0"
      ]
     },
     "execution_count": 80,
     "metadata": {},
     "output_type": "execute_result"
    }
   ],
   "source": [
    "# Convert to float\n",
    "float_s = float(s)\n",
    "float_s"
   ]
  },
  {
   "cell_type": "code",
   "execution_count": 81,
   "id": "b071fdab",
   "metadata": {},
   "outputs": [
    {
     "data": {
      "text/plain": [
       "float"
      ]
     },
     "execution_count": 81,
     "metadata": {},
     "output_type": "execute_result"
    }
   ],
   "source": [
    "type(float_s)"
   ]
  },
  {
   "cell_type": "code",
   "execution_count": 83,
   "id": "10e20b0b",
   "metadata": {},
   "outputs": [],
   "source": [
    "# Why the type matters"
   ]
  },
  {
   "cell_type": "code",
   "execution_count": 82,
   "id": "e5b54c05",
   "metadata": {},
   "outputs": [],
   "source": [
    "y = 5.5\n",
    "s = \"5.5\""
   ]
  },
  {
   "cell_type": "code",
   "execution_count": 84,
   "id": "b3af93cf",
   "metadata": {},
   "outputs": [
    {
     "data": {
      "text/plain": [
       "11.0"
      ]
     },
     "execution_count": 84,
     "metadata": {},
     "output_type": "execute_result"
    }
   ],
   "source": [
    "# Correct concatenation\n",
    "y + float(s)"
   ]
  },
  {
   "cell_type": "code",
   "execution_count": null,
   "id": "9d02a523",
   "metadata": {},
   "outputs": [],
   "source": [
    "# Or..."
   ]
  },
  {
   "cell_type": "code",
   "execution_count": 85,
   "id": "6f8c980f",
   "metadata": {},
   "outputs": [
    {
     "data": {
      "text/plain": [
       "'5.55.5'"
      ]
     },
     "execution_count": 85,
     "metadata": {},
     "output_type": "execute_result"
    }
   ],
   "source": [
    "s + str(y)"
   ]
  },
  {
   "cell_type": "code",
   "execution_count": null,
   "id": "7ba6d757",
   "metadata": {},
   "outputs": [],
   "source": [
    "# Mutable vs. Immutable\n",
    "# - Numbers = Immutable\n",
    "# - String = Immutable\n",
    "# - Lists = Mutable"
   ]
  },
  {
   "cell_type": "code",
   "execution_count": 86,
   "id": "bc933a14",
   "metadata": {},
   "outputs": [
    {
     "data": {
      "text/plain": [
       "'jake'"
      ]
     },
     "execution_count": 86,
     "metadata": {},
     "output_type": "execute_result"
    }
   ],
   "source": [
    "# Create a string\n",
    "name = \"jake\"\n",
    "name"
   ]
  },
  {
   "cell_type": "code",
   "execution_count": 87,
   "id": "2dcfaf09",
   "metadata": {},
   "outputs": [
    {
     "data": {
      "text/plain": [
       "'j'"
      ]
     },
     "execution_count": 87,
     "metadata": {},
     "output_type": "execute_result"
    }
   ],
   "source": [
    "# How I access the first letter\n",
    "name[0]"
   ]
  },
  {
   "cell_type": "code",
   "execution_count": 88,
   "id": "4f175bd2",
   "metadata": {},
   "outputs": [
    {
     "ename": "TypeError",
     "evalue": "'str' object does not support item assignment",
     "output_type": "error",
     "traceback": [
      "\u001b[0;31m---------------------------------------------------------------------------\u001b[0m",
      "\u001b[0;31mTypeError\u001b[0m                                 Traceback (most recent call last)",
      "\u001b[0;32m<ipython-input-88-78e21c6e82e5>\u001b[0m in \u001b[0;36m<module>\u001b[0;34m\u001b[0m\n\u001b[1;32m      1\u001b[0m \u001b[0;31m# Intuitively...\u001b[0m\u001b[0;34m\u001b[0m\u001b[0;34m\u001b[0m\u001b[0;34m\u001b[0m\u001b[0m\n\u001b[0;32m----> 2\u001b[0;31m \u001b[0mname\u001b[0m\u001b[0;34m[\u001b[0m\u001b[0;36m0\u001b[0m\u001b[0;34m]\u001b[0m \u001b[0;34m=\u001b[0m \u001b[0;34m\"J\"\u001b[0m\u001b[0;34m\u001b[0m\u001b[0;34m\u001b[0m\u001b[0m\n\u001b[0m",
      "\u001b[0;31mTypeError\u001b[0m: 'str' object does not support item assignment"
     ]
    }
   ],
   "source": [
    "# Intuitively...\n",
    "name[0] = \"J\""
   ]
  },
  {
   "cell_type": "code",
   "execution_count": 90,
   "id": "e3599433",
   "metadata": {},
   "outputs": [
    {
     "data": {
      "text/plain": [
       "'Jake'"
      ]
     },
     "execution_count": 90,
     "metadata": {},
     "output_type": "execute_result"
    }
   ],
   "source": [
    "# Have to create new string obejct\n",
    "new_name = \"J\" + name[1:]\n",
    "new_name"
   ]
  },
  {
   "cell_type": "code",
   "execution_count": 91,
   "id": "0388fb2b",
   "metadata": {},
   "outputs": [
    {
     "data": {
      "text/plain": [
       "['j', 'a', 'k', 'e']"
      ]
     },
     "execution_count": 91,
     "metadata": {},
     "output_type": "execute_result"
    }
   ],
   "source": [
    "# Create a list\n",
    "L = ['j', 'a', 'k', 'e']\n",
    "L"
   ]
  },
  {
   "cell_type": "code",
   "execution_count": 92,
   "id": "51b7dc57",
   "metadata": {},
   "outputs": [
    {
     "data": {
      "text/plain": [
       "['J', 'a', 'k', 'e']"
      ]
     },
     "execution_count": 92,
     "metadata": {},
     "output_type": "execute_result"
    }
   ],
   "source": [
    "L[0] = 'J'\n",
    "L"
   ]
  },
  {
   "cell_type": "code",
   "execution_count": null,
   "id": "f4d7638b",
   "metadata": {},
   "outputs": [],
   "source": []
  },
  {
   "cell_type": "code",
   "execution_count": null,
   "id": "1896f52b",
   "metadata": {},
   "outputs": [],
   "source": []
  }
 ],
 "metadata": {
  "kernelspec": {
   "display_name": "Python 3",
   "language": "python",
   "name": "python3"
  },
  "language_info": {
   "codemirror_mode": {
    "name": "ipython",
    "version": 3
   },
   "file_extension": ".py",
   "mimetype": "text/x-python",
   "name": "python",
   "nbconvert_exporter": "python",
   "pygments_lexer": "ipython3",
   "version": "3.8.8"
  }
 },
 "nbformat": 4,
 "nbformat_minor": 5
}
