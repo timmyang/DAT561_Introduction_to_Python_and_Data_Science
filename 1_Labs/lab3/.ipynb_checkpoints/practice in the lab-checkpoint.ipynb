{
 "cells": [
  {
   "cell_type": "markdown",
   "metadata": {},
   "source": [
    "# Practice with New Objects\n",
    "\n"
   ]
  },
  {
   "cell_type": "markdown",
   "metadata": {},
   "source": [
    "## Practice with Dictionaries"
   ]
  },
  {
   "cell_type": "markdown",
   "metadata": {},
   "source": [
    "From the dictionary, produce a list of strings, where each element in the list is a last name.  Your code should work for an arbitrary dictionary formatted as given below. Please print Last names in the dictionary."
   ]
  },
  {
   "cell_type": "code",
   "execution_count": 13,
   "metadata": {},
   "outputs": [
    {
     "data": {
      "text/plain": [
       "['Yang', 'Jake', 'Sparrow']"
      ]
     },
     "execution_count": 13,
     "metadata": {},
     "output_type": "execute_result"
    }
   ],
   "source": [
    "d = {1: \"Hyeonwoo Yang\", 2 : \"Dennis Jake\", 3: \"Jake Sparrow\"}\n",
    "\n",
    "#Write your code here\n",
    "last_names = []\n",
    "\n",
    "for name in d.values():\n",
    "    last_names.append(name.split(\" \")[-1])\n",
    "    \n",
    "last_names\n",
    "    "
   ]
  },
  {
   "cell_type": "markdown",
   "metadata": {},
   "source": [
    "Consider the following dictionary D of scores.  From this dictionary, produce another dictionary where the keys are the names and the values are the average scores."
   ]
  },
  {
   "cell_type": "code",
   "execution_count": 32,
   "metadata": {},
   "outputs": [
    {
     "data": {
      "text/plain": [
       "{'Jake': 88.5, 'Charlie': 99.66666666666667, 'Ellen': 90.0}"
      ]
     },
     "execution_count": 32,
     "metadata": {},
     "output_type": "execute_result"
    }
   ],
   "source": [
    "# creating a new dictionary \n",
    "D = {\"Jake\" : [99,87,91, 77], \"Charlie\" : [100,100,99], \"Ellen\" : [95,70, 85,100,100]}\n",
    "\n",
    "total = 0\n",
    "avg_score = 0\n",
    "\n",
    "ans = {}\n",
    "k = 0\n",
    "\n",
    "#Write your code here\n",
    "for name in D.keys():\n",
    "    \n",
    "    a = list(D.values())[k]\n",
    "    k += 1\n",
    "    \n",
    "    for b in a:\n",
    "        total += b\n",
    "        avg_score = total / len(a)\n",
    "        \n",
    "    total = 0\n",
    "    \n",
    "    ans[name] = avg_score\n",
    "    \n",
    "ans"
   ]
  },
  {
   "cell_type": "code",
   "execution_count": null,
   "metadata": {},
   "outputs": [],
   "source": []
  },
  {
   "cell_type": "code",
   "execution_count": 4,
   "metadata": {},
   "outputs": [],
   "source": [
    "my_dict = {(\"Jake\",1) : 100, (\"Charlie\",2) : 200, (\"Ellen\",3) : 300}  \n",
    "# list out keys and values separately \n",
    " \n",
    "\n",
    "    \n",
    "# one-liner \n",
    "#print(list(my_dict.keys())[list(my_dict.values()).index(200)]) "
   ]
  },
  {
   "cell_type": "markdown",
   "metadata": {},
   "source": [
    "Write the code to check whether the inputted sentence is a pangram, meaning that it contains all 26 letters.  "
   ]
  },
  {
   "cell_type": "code",
   "execution_count": 47,
   "metadata": {},
   "outputs": [
    {
     "data": {
      "text/plain": [
       "True"
      ]
     },
     "execution_count": 47,
     "metadata": {},
     "output_type": "execute_result"
    }
   ],
   "source": [
    "sentence = \"the quick brown fox jumps over the lazy dog\"\n",
    "#Write your code here\n",
    "\n",
    "D = {}\n",
    "\n",
    "a_list = [\"a\", \"b\", \"c\", \"d\", \"e\", \"f\", \"g\", \"h\", \"i\", \"j\", \"k\", \"l\", \\\n",
    "        \"m\", \"n\", \"o\", \"p\", \"q\", \"r\", \"s\", \"t\", \"u\", \"v\", \"w\", \"x\", \"y\", \"z\"]\n",
    "\n",
    "total = 0\n",
    "\n",
    "for alphabet in a_list:\n",
    "    \n",
    "    for s in sentence:\n",
    "        \n",
    "        if alphabet == s:\n",
    "            D[alphabet] = 1\n",
    "\n",
    "for value in D.values():\n",
    "        total += value\n",
    "\n",
    "total == 26"
   ]
  },
  {
   "cell_type": "markdown",
   "metadata": {},
   "source": [
    "## Practice with String Methods\n",
    "\n",
    "Use the **count** method to count the number of times that str1 appears in str2."
   ]
  },
  {
   "cell_type": "code",
   "execution_count": 48,
   "metadata": {},
   "outputs": [
    {
     "data": {
      "text/plain": [
       "2"
      ]
     },
     "execution_count": 48,
     "metadata": {},
     "output_type": "execute_result"
    }
   ],
   "source": [
    "str1 = \"co\"\n",
    "str2 = \"coding in school is cool\"\n",
    "#Write your code here\n",
    "\n",
    "str2.count(str1)"
   ]
  },
  {
   "cell_type": "markdown",
   "metadata": {},
   "source": [
    "Count the number of words that start with a vowel (a,e,i,o,u) in the following sentences.  The code should work for any sentence. The **split**, **replace** and **lower** methods will be useful here."
   ]
  },
  {
   "cell_type": "code",
   "execution_count": 63,
   "metadata": {},
   "outputs": [
    {
     "data": {
      "text/plain": [
       "7"
      ]
     },
     "execution_count": 63,
     "metadata": {},
     "output_type": "execute_result"
    }
   ],
   "source": [
    "sentence = \"\"\"Jake likes to eat apples. So, he went to the store to acquire some. \n",
    "He used his coupons and then he declared: I love apples.\"\"\"\n",
    "\n",
    "#Write your code here\n",
    "clear_sentence = sentence.replace(\".\", \"\").replace(\",\", \"\").replace(\"\\n\", \"\")\\\n",
    "    .replace(\":\", \"\").lower().split(\" \")\n",
    "\n",
    "count = 0 \n",
    "\n",
    "for s in clear_sentence:\n",
    "    if s[0] in [\"a\", \"e\", \"i\", \"o\", \"u\"]:\n",
    "        count += 1\n",
    "\n",
    "count"
   ]
  },
  {
   "cell_type": "markdown",
   "metadata": {},
   "source": [
    "\n",
    "## Practice with List Methods\n",
    " \n",
    "Store all of the words with more than 5 letters in a list. Use the **append** method for lists and the **strip** method for strings to get rid of punctuation."
   ]
  },
  {
   "cell_type": "code",
   "execution_count": 76,
   "metadata": {},
   "outputs": [
    {
     "data": {
      "text/plain": [
       "['apples', 'acquire', 'coupons', 'declared', 'apples']"
      ]
     },
     "execution_count": 76,
     "metadata": {},
     "output_type": "execute_result"
    }
   ],
   "source": [
    "sentence = \"\"\"Jake likes to eat apples. So, he went to the store to acquire some. \n",
    "He used his coupons and then he declared: I love apples.\"\"\"\n",
    "\n",
    "#Write you code here\n",
    "L = []\n",
    "\n",
    "for word in sentence.split(\" \"):\n",
    "    w = word.strip(\".,:\\n\")\n",
    "    \n",
    "    if len(w) > 5:\n",
    "        L.append(w)\n",
    "\n",
    "L"
   ]
  },
  {
   "cell_type": "markdown",
   "metadata": {},
   "source": [
    "From the list L, created a list of lists called Q, which slices around the number 4. For example, if  L = [1,2,3,4,5,6], then Q = [[1,2,3], [5,6]].  The code should work for general L with a single 4. Use the **index** and **append** methods. "
   ]
  },
  {
   "cell_type": "code",
   "execution_count": 87,
   "metadata": {},
   "outputs": [
    {
     "data": {
      "text/plain": [
       "[[1, 2, 3], [5, 6]]"
      ]
     },
     "execution_count": 87,
     "metadata": {},
     "output_type": "execute_result"
    }
   ],
   "source": [
    "L=[1, 2, 3, 4, 5, 6]\n",
    "\n",
    "#Write you code here\n",
    "Q = []\n",
    "\n",
    "Q.append(L[:L.index(4)])\n",
    "Q.append(L[L.index(4) + 1:])\n",
    "Q"
   ]
  }
 ],
 "metadata": {
  "kernelspec": {
   "display_name": "Python 3",
   "language": "python",
   "name": "python3"
  },
  "language_info": {
   "codemirror_mode": {
    "name": "ipython",
    "version": 3
   },
   "file_extension": ".py",
   "mimetype": "text/x-python",
   "name": "python",
   "nbconvert_exporter": "python",
   "pygments_lexer": "ipython3",
   "version": "3.8.8"
  },
  "toc": {
   "colors": {
    "hover_highlight": "#DAA520",
    "navigate_num": "#000000",
    "navigate_text": "#333333",
    "running_highlight": "#FF0000",
    "selected_highlight": "#FFD700",
    "sidebar_border": "#EEEEEE",
    "wrapper_background": "#FFFFFF"
   },
   "moveMenuLeft": true,
   "nav_menu": {
    "height": "66px",
    "width": "252px"
   },
   "navigate_menu": true,
   "number_sections": true,
   "sideBar": true,
   "skip_h1_title": false,
   "threshold": 4,
   "toc_cell": false,
   "toc_position": {},
   "toc_section_display": "block",
   "toc_window_display": false,
   "widenNotebook": false
  }
 },
 "nbformat": 4,
 "nbformat_minor": 2
}
