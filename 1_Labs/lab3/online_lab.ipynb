{
 "cells": [
  {
   "cell_type": "markdown",
   "metadata": {},
   "source": [
    "# Counting Stop words\n",
    "\n",
    "\n",
    "The first code block contains the poem O Captain! my Captain! I have replaced all the new line characters with blanks for you (.replace(\"\\n\",\"\")). Run this block of code and then run the line of code with just the variable poem in it to view the poem after this update.  The next block of code contains a list of \"stop words\", which are common words that don't provide much use in textual analysis. Run this block to create the variable stop_words. Your goal is to build a dictionary whose keys are the stop words that appear in the poem, with associated values that are counts of the number of times this stop word appears. To check your answer you should get 18 \"the\" and 2 \"won\" (among all the other counts). Hint: the string method .lower() could be useful to put everything in lowercase."
   ]
  },
  {
   "cell_type": "code",
   "execution_count": 32,
   "metadata": {},
   "outputs": [],
   "source": [
    "poem = \"\"\"\n",
    "\n",
    "O CAPTAIN! my Captain! our fearful trip is done; \n",
    "The ship has weathered every rack, the prize we sought is won; \n",
    "The port is near, the bells I hear, the people all exulting, \n",
    "While follow eyes the steady keel, the vessel grim and daring: \n",
    "But O heart! heart! heart! \n",
    "O the bleeding drops of red, \n",
    "Where on the deck my Captain lies, \n",
    "Fallen cold and dead. \n",
    "\n",
    "O Captain! my Captain! rise up and hear the bells; \n",
    "Rise up for you the flag is flung for you the bugle trills; \n",
    "For you bouquets and ribboned wreaths for you the shores a crowding; \n",
    "For you they call, the swaying mass, their eager faces turning; \n",
    "Here Captain! dear father! \n",
    "This arm beneath your head; \n",
    "It is some dream that on the deck,\n",
    "You have fallen cold and dead. \n",
    "\n",
    "\n",
    "My Captain does not answer, his lips are pale and still; \n",
    "My father does not feel my arm, he has no pulse nor will; \n",
    "The ship is anchored safe and sound, its voyage closed and done; \n",
    "From fearful trip, the victor ship, comes in with object won; \n",
    "But I, with mournful tread, \n",
    "Walk the deck my Captain lies, \n",
    "Fallen cold and dead.\n",
    "\n",
    "\n",
    "\n",
    "\n",
    "\"\"\".replace(\"\\n\",\"\")"
   ]
  },
  {
   "cell_type": "code",
   "execution_count": 33,
   "metadata": {},
   "outputs": [
    {
     "data": {
      "text/plain": [
       "'O CAPTAIN! my Captain! our fearful trip is done; The ship has weathered every rack, the prize we sought is won; The port is near, the bells I hear, the people all exulting, While follow eyes the steady keel, the vessel grim and daring: But O heart! heart! heart! O the bleeding drops of red, Where on the deck my Captain lies, Fallen cold and dead. O Captain! my Captain! rise up and hear the bells; Rise up for you the flag is flung for you the bugle trills; For you bouquets and ribboned wreaths for you the shores a crowding; For you they call, the swaying mass, their eager faces turning; Here Captain! dear father! This arm beneath your head; It is some dream that on the deck,You have fallen cold and dead. My Captain does not answer, his lips are pale and still; My father does not feel my arm, he has no pulse nor will; The ship is anchored safe and sound, its voyage closed and done; From fearful trip, the victor ship, comes in with object won; But I, with mournful tread, Walk the deck my Captain lies, Fallen cold and dead.'"
      ]
     },
     "execution_count": 33,
     "metadata": {},
     "output_type": "execute_result"
    }
   ],
   "source": [
    "poem"
   ]
  },
  {
   "cell_type": "code",
   "execution_count": 5,
   "metadata": {},
   "outputs": [],
   "source": [
    "stop_words = ['do', 'ourselves', 'here', 'such', 'their', 'against', 'this', 'or', 'shouldn', 'over', 'to', 'himself', 'than', 'again', 'ain', 'be', 'which',\\\n",
    "              'she', 'after', 'so', 's', 'under', 'down', 'for', 'had', 'yourselves', 'during', 're', 'because', 'through', 'all', 'if', 'them', 'my', 'too',\\\n",
    "              'yours', 'didn', 'yourself', 'has', 'that', 'are', 'herself', 'o', 'll', 'haven', 'weren', 'you', 'further', 'both', 'above', 'as', 'few', 'm', 'out',\\\n",
    "              'him', 'into', 'not', 'needn', 'won', 'hers', 'where', 'hasn', 'there', 'was', 'no', 'these', 'ours', 'a', 'some', 'now', 'before', 'having', 'own',\\\n",
    "              'then', 'same', 'mustn', 'with', 'most', 'should', 'y', 'theirs', 'from', 'when', 've', 'being', 'his', 'any', 'our', 'themselves', 'below', 'been',\\\n",
    "              'about', 'off', 'd', 'only', 'couldn', 'her', 'by', 'shan', 'wouldn', 'at', 'up', 'of', 'i', 'we', 'did', 'each', 'on', 'how', 'me', 'very', 'the',\\\n",
    "              'between', 'will', 'but', 'itself', 'what', 'is', 'hadn', 'isn', 'until', 'why', 'can', 't', 'and', 'nor', 'don', 'aren', 'more', 'does', 'those',\\\n",
    "              'am', 'other', 'whom', 'its', 'it', 'he', 'myself', 'who', 'doesn', 'ma', 'once', 'were', 'in', 'mightn', 'doing', 'your', 'an', 'have', 'wasn', 'while', 'just', 'they']"
   ]
  },
  {
   "cell_type": "code",
   "execution_count": 27,
   "metadata": {},
   "outputs": [],
   "source": [
    "#Write you code here.\n"
   ]
  }
 ],
 "metadata": {
  "kernelspec": {
   "display_name": "Python 3",
   "language": "python",
   "name": "python3"
  },
  "language_info": {
   "codemirror_mode": {
    "name": "ipython",
    "version": 3
   },
   "file_extension": ".py",
   "mimetype": "text/x-python",
   "name": "python",
   "nbconvert_exporter": "python",
   "pygments_lexer": "ipython3",
   "version": "3.8.8"
  },
  "toc": {
   "colors": {
    "hover_highlight": "#DAA520",
    "navigate_num": "#000000",
    "navigate_text": "#333333",
    "running_highlight": "#FF0000",
    "selected_highlight": "#FFD700",
    "sidebar_border": "#EEEEEE",
    "wrapper_background": "#FFFFFF"
   },
   "moveMenuLeft": true,
   "nav_menu": {
    "height": "30px",
    "width": "252px"
   },
   "navigate_menu": true,
   "number_sections": true,
   "sideBar": true,
   "threshold": 4,
   "toc_cell": false,
   "toc_section_display": "block",
   "toc_window_display": false,
   "widenNotebook": false
  }
 },
 "nbformat": 4,
 "nbformat_minor": 2
}
