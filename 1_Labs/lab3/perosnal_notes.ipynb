{
 "cells": [
  {
   "cell_type": "markdown",
   "id": "29d7e2d4",
   "metadata": {},
   "source": [
    "# Lab 3\n",
    "\n",
    "## 3.1 Dictionaries"
   ]
  },
  {
   "cell_type": "code",
   "execution_count": 4,
   "id": "ed672add",
   "metadata": {},
   "outputs": [
    {
     "data": {
      "text/plain": [
       "['Jake', 'Joe']"
      ]
     },
     "execution_count": 4,
     "metadata": {},
     "output_type": "execute_result"
    }
   ],
   "source": [
    "# Key and Value pairs\n",
    "# Disctionaries have no Orders\n",
    "D_num = {0: [\"Jake\", \"Joe\"]}\n",
    "D_num[0]"
   ]
  },
  {
   "cell_type": "code",
   "execution_count": 5,
   "id": "ffb3a948",
   "metadata": {},
   "outputs": [
    {
     "data": {
      "text/plain": [
       "['Jake', 'Joe']"
      ]
     },
     "execution_count": 5,
     "metadata": {},
     "output_type": "execute_result"
    }
   ],
   "source": [
    "D_str = {\"name\": [\"Jake\", \"Joe\"]} \n",
    "D_str[\"name\"]"
   ]
  },
  {
   "cell_type": "code",
   "execution_count": 7,
   "id": "38081952",
   "metadata": {},
   "outputs": [
    {
     "data": {
      "text/plain": [
       "[95, 91, 80]"
      ]
     },
     "execution_count": 7,
     "metadata": {},
     "output_type": "execute_result"
    }
   ],
   "source": [
    "D_tup = {(\"Jake\", 1): [95, 91, 80]}\n",
    "D_tup[(\"Jake\", 1)]"
   ]
  },
  {
   "cell_type": "code",
   "execution_count": 9,
   "id": "9734d85b",
   "metadata": {},
   "outputs": [
    {
     "name": "stdout",
     "output_type": "stream",
     "text": [
      "Jake\n",
      "Joe\n",
      "Charlie\n"
     ]
    }
   ],
   "source": [
    "# Dictionaries as loop target\n",
    "D = {\"Jake\": [90, 91], \"Joe\": [100, 100], \"Charlie\": [99, 100]}\n",
    "\n",
    "for name in D:\n",
    "    print(name)"
   ]
  },
  {
   "cell_type": "code",
   "execution_count": 11,
   "id": "e92aa0e0",
   "metadata": {},
   "outputs": [
    {
     "data": {
      "text/plain": [
       "dict_keys(['Jake', 'Joe', 'Charlie'])"
      ]
     },
     "execution_count": 11,
     "metadata": {},
     "output_type": "execute_result"
    }
   ],
   "source": [
    "D.keys()"
   ]
  },
  {
   "cell_type": "code",
   "execution_count": 13,
   "id": "623d514e",
   "metadata": {},
   "outputs": [
    {
     "data": {
      "text/plain": [
       "dict_values([[90, 91], [100, 100], [99, 100]])"
      ]
     },
     "execution_count": 13,
     "metadata": {},
     "output_type": "execute_result"
    }
   ],
   "source": [
    "D.values()"
   ]
  },
  {
   "cell_type": "code",
   "execution_count": 14,
   "id": "45e58664",
   "metadata": {},
   "outputs": [
    {
     "name": "stdout",
     "output_type": "stream",
     "text": [
      "Jake\n",
      "Joe\n",
      "Charlie\n"
     ]
    }
   ],
   "source": [
    "for name in D.keys():\n",
    "    print(name)"
   ]
  },
  {
   "cell_type": "code",
   "execution_count": 15,
   "id": "5e9d11e4",
   "metadata": {},
   "outputs": [
    {
     "data": {
      "text/plain": [
       "{'Jake': [90, 91], 'Joe': [100, 100], 'Charlie': [99, 100]}"
      ]
     },
     "execution_count": 15,
     "metadata": {},
     "output_type": "execute_result"
    }
   ],
   "source": [
    "# Add element to exsiting dictionary\n",
    "D = {\"Jake\": [90, 91], \"Joe\": [100, 100], \"Charlie\": [99, 100]}\n",
    "\n",
    "D"
   ]
  },
  {
   "cell_type": "code",
   "execution_count": 17,
   "id": "e01fb581",
   "metadata": {},
   "outputs": [
    {
     "data": {
      "text/plain": [
       "{'Jake': [90, 91], 'Joe': [100, 100], 'Charlie': [99, 100], 'Ellen': [75, 80]}"
      ]
     },
     "execution_count": 17,
     "metadata": {},
     "output_type": "execute_result"
    }
   ],
   "source": [
    "D[\"Ellen\"] = [75, 80]\n",
    "\n",
    "D"
   ]
  },
  {
   "cell_type": "markdown",
   "id": "cf54d1b8",
   "metadata": {},
   "source": [
    "## 3.2 When to Use Dictionaries"
   ]
  },
  {
   "cell_type": "code",
   "execution_count": 18,
   "id": "eec44149",
   "metadata": {},
   "outputs": [],
   "source": [
    "# Why Dictionaires?\n",
    "## Lets us store and access info through something other than a number (index.)"
   ]
  },
  {
   "cell_type": "code",
   "execution_count": 22,
   "id": "eb4c9a94",
   "metadata": {},
   "outputs": [
    {
     "data": {
      "text/plain": [
       "'10501 Streamview Ct.'"
      ]
     },
     "execution_count": 22,
     "metadata": {},
     "output_type": "execute_result"
    }
   ],
   "source": [
    "# With a dictionary\n",
    "Addresses = {\"Jake\": \"67 Gleneden Ave\", \\\n",
    "            \"Joe\": \"10501 Streamview Ct.\"}\n",
    "\n",
    "Addresses [\"Joe\"]"
   ]
  },
  {
   "cell_type": "code",
   "execution_count": 23,
   "id": "23cda9b8",
   "metadata": {},
   "outputs": [
    {
     "data": {
      "text/plain": [
       "'10501 Streamview Ct.'"
      ]
     },
     "execution_count": 23,
     "metadata": {},
     "output_type": "execute_result"
    }
   ],
   "source": [
    "# With a list\n",
    "Addresses = [[\"Jake\", \"67 Gleneden Ave\"], \\\n",
    "            [\"Joe\", \"10501 Streamview Ct.\"]]\n",
    "\n",
    "for address in Addresses:\n",
    "    name = address[0]\n",
    "    \n",
    "    if name == \"Joe\":\n",
    "        joe_address = address[1]\n",
    "\n",
    "joe_address"
   ]
  },
  {
   "cell_type": "markdown",
   "id": "538cfa76",
   "metadata": {},
   "source": [
    "## 3.3 Tuples"
   ]
  },
  {
   "cell_type": "code",
   "execution_count": null,
   "id": "b9fa3766",
   "metadata": {},
   "outputs": [],
   "source": [
    "# Tuples are essentially immutable lists\n",
    "## They can be sliced and indexed and used in for loops, but you cannot sort them\n",
    "## Since they are immutable, they can be keys in a dictionary, as we already saw"
   ]
  },
  {
   "cell_type": "code",
   "execution_count": 24,
   "id": "86c125c3",
   "metadata": {},
   "outputs": [
    {
     "data": {
      "text/plain": [
       "tuple"
      ]
     },
     "execution_count": 24,
     "metadata": {},
     "output_type": "execute_result"
    }
   ],
   "source": [
    "a = (1, 2)\n",
    "type(a)"
   ]
  },
  {
   "cell_type": "code",
   "execution_count": 25,
   "id": "33b8607d",
   "metadata": {},
   "outputs": [
    {
     "data": {
      "text/plain": [
       "(1, 2, 3, 4)"
      ]
     },
     "execution_count": 25,
     "metadata": {},
     "output_type": "execute_result"
    }
   ],
   "source": [
    "# Concatenation\n",
    "(1, 2) + (3, 4)"
   ]
  },
  {
   "cell_type": "code",
   "execution_count": 27,
   "id": "facbe9a4",
   "metadata": {},
   "outputs": [
    {
     "data": {
      "text/plain": [
       "(4,)"
      ]
     },
     "execution_count": 27,
     "metadata": {},
     "output_type": "execute_result"
    }
   ],
   "source": [
    "# Signle number\n",
    "(4, )"
   ]
  },
  {
   "cell_type": "code",
   "execution_count": 28,
   "id": "5a0aa542",
   "metadata": {},
   "outputs": [
    {
     "data": {
      "text/plain": [
       "(2, 3)"
      ]
     },
     "execution_count": 28,
     "metadata": {},
     "output_type": "execute_result"
    }
   ],
   "source": [
    "# Indexing works\n",
    "a = (1, 2, 3, 4)\n",
    "a[1:3]"
   ]
  },
  {
   "cell_type": "code",
   "execution_count": 29,
   "id": "59d6137f",
   "metadata": {},
   "outputs": [
    {
     "ename": "TypeError",
     "evalue": "'tuple' object does not support item assignment",
     "output_type": "error",
     "traceback": [
      "\u001b[0;31m---------------------------------------------------------------------------\u001b[0m",
      "\u001b[0;31mTypeError\u001b[0m                                 Traceback (most recent call last)",
      "\u001b[0;32m<ipython-input-29-60f331917f58>\u001b[0m in \u001b[0;36m<module>\u001b[0;34m\u001b[0m\n\u001b[1;32m      1\u001b[0m \u001b[0mt\u001b[0m \u001b[0;34m=\u001b[0m \u001b[0;34m(\u001b[0m\u001b[0;36m1\u001b[0m\u001b[0;34m,\u001b[0m \u001b[0;36m2\u001b[0m\u001b[0;34m,\u001b[0m \u001b[0;36m3\u001b[0m\u001b[0;34m,\u001b[0m \u001b[0;36m4\u001b[0m\u001b[0;34m)\u001b[0m\u001b[0;34m\u001b[0m\u001b[0;34m\u001b[0m\u001b[0m\n\u001b[0;32m----> 2\u001b[0;31m \u001b[0mt\u001b[0m\u001b[0;34m[\u001b[0m\u001b[0;36m1\u001b[0m\u001b[0;34m]\u001b[0m \u001b[0;34m=\u001b[0m \u001b[0;36m0\u001b[0m\u001b[0;34m\u001b[0m\u001b[0;34m\u001b[0m\u001b[0m\n\u001b[0m",
      "\u001b[0;31mTypeError\u001b[0m: 'tuple' object does not support item assignment"
     ]
    }
   ],
   "source": [
    "# Immutable\n",
    "t = (1, 2, 3, 4)\n",
    "t[1] = 0"
   ]
  },
  {
   "cell_type": "code",
   "execution_count": 30,
   "id": "5e481d7c",
   "metadata": {},
   "outputs": [
    {
     "data": {
      "text/plain": [
       "10"
      ]
     },
     "execution_count": 30,
     "metadata": {},
     "output_type": "execute_result"
    }
   ],
   "source": [
    "# Tuples can be object in for loop\n",
    "a = (1, 2, 3, 4)\n",
    "total = 0\n",
    "\n",
    "for i in a:\n",
    "    total += i\n",
    "\n",
    "total"
   ]
  },
  {
   "cell_type": "markdown",
   "id": "99a3444a",
   "metadata": {},
   "source": [
    "## 3.4 String Methods"
   ]
  },
  {
   "cell_type": "code",
   "execution_count": null,
   "id": "f8f1965d",
   "metadata": {},
   "outputs": [],
   "source": [
    "# Python Objects\n",
    "\n",
    "## Python objects are dynamically typed - when we create a variable we don't have to \n",
    "## say what type of object it will store\n",
    "\n",
    "## Python objects are either mutable (can be changed) or immutable (cannot be changed)\n",
    "\n",
    "## Python objects are strongly typed - there are built in type specific methods that \n",
    "## help us manipulate objects"
   ]
  },
  {
   "cell_type": "code",
   "execution_count": 32,
   "id": "2f9e1fe1",
   "metadata": {},
   "outputs": [
    {
     "data": {
      "text/plain": [
       "'Jaqe'"
      ]
     },
     "execution_count": 32,
     "metadata": {},
     "output_type": "execute_result"
    }
   ],
   "source": [
    "# Replace method\n",
    "name = \"Jaqe\"\n",
    "correct_name = name.replace(\"q\", \"k\")\n",
    "\n",
    "name"
   ]
  },
  {
   "cell_type": "code",
   "execution_count": 33,
   "id": "7c6d4787",
   "metadata": {},
   "outputs": [
    {
     "data": {
      "text/plain": [
       "'Jake'"
      ]
     },
     "execution_count": 33,
     "metadata": {},
     "output_type": "execute_result"
    }
   ],
   "source": [
    "correct_name"
   ]
  },
  {
   "cell_type": "code",
   "execution_count": 37,
   "id": "d89fbeff",
   "metadata": {},
   "outputs": [
    {
     "data": {
      "text/plain": [
       "1"
      ]
     },
     "execution_count": 37,
     "metadata": {},
     "output_type": "execute_result"
    }
   ],
   "source": [
    "# Find method\n",
    "## Finds the first occurance.\n",
    "sentence = \"Hello World.\"\n",
    "\n",
    "sentence.find('e')"
   ]
  },
  {
   "cell_type": "code",
   "execution_count": 35,
   "id": "9de5551c",
   "metadata": {},
   "outputs": [
    {
     "data": {
      "text/plain": [
       "5"
      ]
     },
     "execution_count": 35,
     "metadata": {},
     "output_type": "execute_result"
    }
   ],
   "source": [
    "sentence.find(' ')"
   ]
  },
  {
   "cell_type": "code",
   "execution_count": 38,
   "id": "aa8da378",
   "metadata": {},
   "outputs": [
    {
     "data": {
      "text/plain": [
       "-1"
      ]
     },
     "execution_count": 38,
     "metadata": {},
     "output_type": "execute_result"
    }
   ],
   "source": [
    "sentence.find('z')"
   ]
  },
  {
   "cell_type": "code",
   "execution_count": 39,
   "id": "a9cac037",
   "metadata": {},
   "outputs": [
    {
     "data": {
      "text/plain": [
       "['I', 'went', 'to', 'the', 'store']"
      ]
     },
     "execution_count": 39,
     "metadata": {},
     "output_type": "execute_result"
    }
   ],
   "source": [
    "# Split method\n",
    "line = \"I went to the store\"\n",
    "words = line.split(' ')\n",
    "\n",
    "words"
   ]
  },
  {
   "cell_type": "code",
   "execution_count": 43,
   "id": "60d49215",
   "metadata": {},
   "outputs": [
    {
     "data": {
      "text/plain": [
       "'I went to. the store'"
      ]
     },
     "execution_count": 43,
     "metadata": {},
     "output_type": "execute_result"
    }
   ],
   "source": [
    "# Strip method\n",
    "## Deletes input from both sides of string\n",
    "line = '.I went to. the store.'\n",
    "new_line = line.strip(\".\")\n",
    "\n",
    "new_line"
   ]
  },
  {
   "cell_type": "code",
   "execution_count": 47,
   "id": "0374fda6",
   "metadata": {},
   "outputs": [
    {
     "data": {
      "text/plain": [
       "'I went to the store'"
      ]
     },
     "execution_count": 47,
     "metadata": {},
     "output_type": "execute_result"
    }
   ],
   "source": [
    "line = '  .  I went to the store. '\n",
    "new_line = line.strip(\" .\")\n",
    "\n",
    "new_line"
   ]
  },
  {
   "cell_type": "code",
   "execution_count": 48,
   "id": "c5a94df3",
   "metadata": {},
   "outputs": [
    {
     "data": {
      "text/plain": [
       "['I', 'want', 'to', 'the', 'store']"
      ]
     },
     "execution_count": 48,
     "metadata": {},
     "output_type": "execute_result"
    }
   ],
   "source": [
    "# We can stack methods\n",
    "line = '     I want to the store.'\n",
    "new_line = line.strip(\" .\").split(\" \")\n",
    "\n",
    "new_line"
   ]
  },
  {
   "cell_type": "markdown",
   "id": "ebd5eeff",
   "metadata": {},
   "source": [
    "## 3.5 List Methods"
   ]
  },
  {
   "cell_type": "code",
   "execution_count": 49,
   "id": "ccc113c1",
   "metadata": {},
   "outputs": [
    {
     "data": {
      "text/plain": [
       "[1, 2, 3, 4]"
      ]
     },
     "execution_count": 49,
     "metadata": {},
     "output_type": "execute_result"
    }
   ],
   "source": [
    "# Append Method\n",
    "## Add element to the end of a list\n",
    "\n",
    "L = [1, 2, 3]\n",
    "L += [4]\n",
    "L"
   ]
  },
  {
   "cell_type": "code",
   "execution_count": 50,
   "id": "13c14899",
   "metadata": {},
   "outputs": [
    {
     "data": {
      "text/plain": [
       "[1, 2, 3, 4]"
      ]
     },
     "execution_count": 50,
     "metadata": {},
     "output_type": "execute_result"
    }
   ],
   "source": [
    "L = [1, 2, 3]\n",
    "L.append(4)\n",
    "L"
   ]
  },
  {
   "cell_type": "code",
   "execution_count": 51,
   "id": "bf092cad",
   "metadata": {},
   "outputs": [
    {
     "data": {
      "text/plain": [
       "[1, 4, 5]"
      ]
     },
     "execution_count": 51,
     "metadata": {},
     "output_type": "execute_result"
    }
   ],
   "source": [
    "# Sort Method\n",
    "## Srots the elements in the list\n",
    "L = [4, 5, 1]\n",
    "L.sort()\n",
    "L"
   ]
  },
  {
   "cell_type": "code",
   "execution_count": 52,
   "id": "fb725d08",
   "metadata": {},
   "outputs": [
    {
     "data": {
      "text/plain": [
       "[1, 4, 5]"
      ]
     },
     "execution_count": 52,
     "metadata": {},
     "output_type": "execute_result"
    }
   ],
   "source": [
    "L = [4, 5, 1]\n",
    "sorted_L = sorted(L)\n",
    "sorted_L"
   ]
  },
  {
   "cell_type": "code",
   "execution_count": 53,
   "id": "97d0a6a1",
   "metadata": {},
   "outputs": [
    {
     "data": {
      "text/plain": [
       "1"
      ]
     },
     "execution_count": 53,
     "metadata": {},
     "output_type": "execute_result"
    }
   ],
   "source": [
    "# Index method\n",
    "## Returns the index of first occurrence of the inputted element\n",
    "L = [4, 5, 1]\n",
    "index_five = L.index(5)\n",
    "index_five"
   ]
  },
  {
   "cell_type": "code",
   "execution_count": 54,
   "id": "9855c1c0",
   "metadata": {},
   "outputs": [
    {
     "ename": "ValueError",
     "evalue": "10 is not in list",
     "output_type": "error",
     "traceback": [
      "\u001b[0;31m---------------------------------------------------------------------------\u001b[0m",
      "\u001b[0;31mValueError\u001b[0m                                Traceback (most recent call last)",
      "\u001b[0;32m<ipython-input-54-4d869194b048>\u001b[0m in \u001b[0;36m<module>\u001b[0;34m\u001b[0m\n\u001b[0;32m----> 1\u001b[0;31m \u001b[0mindex_ten\u001b[0m \u001b[0;34m=\u001b[0m \u001b[0mL\u001b[0m\u001b[0;34m.\u001b[0m\u001b[0mindex\u001b[0m\u001b[0;34m(\u001b[0m\u001b[0;36m10\u001b[0m\u001b[0;34m)\u001b[0m\u001b[0;34m\u001b[0m\u001b[0;34m\u001b[0m\u001b[0m\n\u001b[0m",
      "\u001b[0;31mValueError\u001b[0m: 10 is not in list"
     ]
    }
   ],
   "source": [
    "index_ten = L.index(10)\n"
   ]
  },
  {
   "cell_type": "code",
   "execution_count": 56,
   "id": "824a1099",
   "metadata": {},
   "outputs": [
    {
     "data": {
      "text/plain": [
       "[1, 3, 8]"
      ]
     },
     "execution_count": 56,
     "metadata": {},
     "output_type": "execute_result"
    }
   ],
   "source": [
    "# How do I find all indecies of a given element?\n",
    "\n",
    "L = [4, 5, 1, 5, 12, 3, 4, 1, 5, 7, 8]\n",
    "find_fives = []\n",
    "\n",
    "for i in range(len(L)):\n",
    "    \n",
    "    if L[i] == 5:\n",
    "        find_fives.append(i)\n",
    "\n",
    "find_fives"
   ]
  },
  {
   "cell_type": "code",
   "execution_count": 57,
   "id": "59092358",
   "metadata": {},
   "outputs": [
    {
     "data": {
      "text/plain": [
       "[1, 3, 8]"
      ]
     },
     "execution_count": 57,
     "metadata": {},
     "output_type": "execute_result"
    }
   ],
   "source": [
    "find_fives = [i for i in range(len(L)) if L[i] == 5]\n",
    "find_fives"
   ]
  },
  {
   "cell_type": "code",
   "execution_count": 62,
   "id": "87fd46cf",
   "metadata": {},
   "outputs": [
    {
     "ename": "AttributeError",
     "evalue": "'NoneType' object has no attribute 'index'",
     "output_type": "error",
     "traceback": [
      "\u001b[0;31m---------------------------------------------------------------------------\u001b[0m",
      "\u001b[0;31mAttributeError\u001b[0m                            Traceback (most recent call last)",
      "\u001b[0;32m<ipython-input-62-6ad1b30cc338>\u001b[0m in \u001b[0;36m<module>\u001b[0;34m\u001b[0m\n\u001b[1;32m      1\u001b[0m \u001b[0;31m# We cannot stack list methods\u001b[0m\u001b[0;34m\u001b[0m\u001b[0;34m\u001b[0m\u001b[0;34m\u001b[0m\u001b[0m\n\u001b[0;32m----> 2\u001b[0;31m \u001b[0mL\u001b[0m\u001b[0;34m.\u001b[0m\u001b[0msort\u001b[0m\u001b[0;34m(\u001b[0m\u001b[0;34m)\u001b[0m\u001b[0;34m.\u001b[0m\u001b[0mindex\u001b[0m\u001b[0;34m(\u001b[0m\u001b[0;36m5\u001b[0m\u001b[0;34m)\u001b[0m\u001b[0;34m\u001b[0m\u001b[0;34m\u001b[0m\u001b[0m\n\u001b[0m",
      "\u001b[0;31mAttributeError\u001b[0m: 'NoneType' object has no attribute 'index'"
     ]
    }
   ],
   "source": [
    "# We cannot stack list methods\n",
    "## Because the method does not return anything\n",
    "L.sort().index(5)"
   ]
  },
  {
   "cell_type": "code",
   "execution_count": 63,
   "id": "c0dc2fd9",
   "metadata": {},
   "outputs": [
    {
     "data": {
      "text/plain": [
       "5"
      ]
     },
     "execution_count": 63,
     "metadata": {},
     "output_type": "execute_result"
    }
   ],
   "source": [
    "sorted(L).index(5)"
   ]
  },
  {
   "cell_type": "markdown",
   "id": "68b394b5",
   "metadata": {},
   "source": [
    "## 3.6 Dictionary Methods"
   ]
  },
  {
   "cell_type": "code",
   "execution_count": 64,
   "id": "2c37568b",
   "metadata": {},
   "outputs": [
    {
     "data": {
      "text/plain": [
       "dict_keys(['Jake', 'Joe'])"
      ]
     },
     "execution_count": 64,
     "metadata": {},
     "output_type": "execute_result"
    }
   ],
   "source": [
    "# Keys method\n",
    "## Returns the keys as an iterable\n",
    "\n",
    "D = {\"Jake\": 1, \"Joe\": 2}\n",
    "D.keys()"
   ]
  },
  {
   "cell_type": "code",
   "execution_count": 65,
   "id": "97fe480d",
   "metadata": {},
   "outputs": [
    {
     "data": {
      "text/plain": [
       "['Jake', 'Joe']"
      ]
     },
     "execution_count": 65,
     "metadata": {},
     "output_type": "execute_result"
    }
   ],
   "source": [
    "list(D.keys())"
   ]
  },
  {
   "cell_type": "code",
   "execution_count": 66,
   "id": "5c2d578e",
   "metadata": {},
   "outputs": [
    {
     "data": {
      "text/plain": [
       "dict_values([1, 2])"
      ]
     },
     "execution_count": 66,
     "metadata": {},
     "output_type": "execute_result"
    }
   ],
   "source": [
    "# Values method\n",
    "## Returns the values as an iterable\n",
    "\n",
    "D.values()"
   ]
  },
  {
   "cell_type": "code",
   "execution_count": 67,
   "id": "fa6b8cdf",
   "metadata": {},
   "outputs": [
    {
     "data": {
      "text/plain": [
       "[1, 2]"
      ]
     },
     "execution_count": 67,
     "metadata": {},
     "output_type": "execute_result"
    }
   ],
   "source": [
    "list(D.values())"
   ]
  },
  {
   "cell_type": "code",
   "execution_count": 68,
   "id": "b4350511",
   "metadata": {},
   "outputs": [
    {
     "name": "stdout",
     "output_type": "stream",
     "text": [
      "1\n",
      "2\n"
     ]
    }
   ],
   "source": [
    "# We can put values on the obejct in for loop:\n",
    "D = {\"Jake\": 1, \"Joe\": 2}\n",
    "\n",
    "for num in D.values():\n",
    "    print(num)"
   ]
  },
  {
   "cell_type": "code",
   "execution_count": 69,
   "id": "e34ae6d6",
   "metadata": {},
   "outputs": [
    {
     "data": {
      "text/plain": [
       "{'Jake': 'Charlie', 'Joe': 'Griffey'}"
      ]
     },
     "execution_count": 69,
     "metadata": {},
     "output_type": "execute_result"
    }
   ],
   "source": [
    "# We can check if a key or value exists as follows\n",
    "D = {\"Jake\": \"Charlie\", \"Joe\": \"Griffey\"}\n",
    "D"
   ]
  },
  {
   "cell_type": "code",
   "execution_count": 70,
   "id": "d85d2388",
   "metadata": {},
   "outputs": [
    {
     "data": {
      "text/plain": [
       "True"
      ]
     },
     "execution_count": 70,
     "metadata": {},
     "output_type": "execute_result"
    }
   ],
   "source": [
    "\"Jake\" in D.keys()"
   ]
  },
  {
   "cell_type": "code",
   "execution_count": 71,
   "id": "106c314d",
   "metadata": {},
   "outputs": [
    {
     "data": {
      "text/plain": [
       "False"
      ]
     },
     "execution_count": 71,
     "metadata": {},
     "output_type": "execute_result"
    }
   ],
   "source": [
    "\"Clemy\" in D.values()"
   ]
  },
  {
   "cell_type": "code",
   "execution_count": 73,
   "id": "f825986e",
   "metadata": {},
   "outputs": [
    {
     "data": {
      "text/plain": [
       "1"
      ]
     },
     "execution_count": 73,
     "metadata": {},
     "output_type": "execute_result"
    }
   ],
   "source": [
    "# Get method\n",
    "## Another way to access avalue through a key\n",
    "D = {\"Jake\": 1, \"Joe\": 2}\n",
    "D.get(\"Jake\")"
   ]
  },
  {
   "cell_type": "code",
   "execution_count": 74,
   "id": "84894510",
   "metadata": {},
   "outputs": [
    {
     "name": "stdout",
     "output_type": "stream",
     "text": [
      "None\n"
     ]
    }
   ],
   "source": [
    "print(D.get(\"Steve\"))"
   ]
  }
 ],
 "metadata": {
  "kernelspec": {
   "display_name": "Python 3",
   "language": "python",
   "name": "python3"
  },
  "language_info": {
   "codemirror_mode": {
    "name": "ipython",
    "version": 3
   },
   "file_extension": ".py",
   "mimetype": "text/x-python",
   "name": "python",
   "nbconvert_exporter": "python",
   "pygments_lexer": "ipython3",
   "version": "3.8.8"
  }
 },
 "nbformat": 4,
 "nbformat_minor": 5
}
